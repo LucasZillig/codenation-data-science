{
 "cells": [
  {
   "cell_type": "markdown",
   "metadata": {},
   "source": [
    "# Projeto Prático -  AceleraDev Data Science"
   ]
  },
  {
   "cell_type": "markdown",
   "metadata": {},
   "source": [
    "__Questão de Negócio__:\n",
    "O objetivo deste produto é fornecer um serviço automatizado que recomenda leads para um usuário dado sua atual lista de clientes (Portfólio)."
   ]
  },
  {
   "cell_type": "markdown",
   "metadata": {
    "colab_type": "text",
    "heading_collapsed": true,
    "id": "DC306kGEVJjx"
   },
   "source": [
    "## 0.0. Imports"
   ]
  },
  {
   "cell_type": "code",
   "execution_count": 1,
   "metadata": {
    "colab": {
     "base_uri": "https://localhost:8080/",
     "height": 70
    },
    "colab_type": "code",
    "hidden": true,
    "id": "o-UBXaVIVJjy",
    "outputId": "c47c0d13-4863-4561-ece2-2ec2ab72eeff"
   },
   "outputs": [],
   "source": [
    "import numpy as np\n",
    "import pandas as pd\n",
    "import matplotlib.pyplot as plt\n",
    "import seaborn as sns\n",
    "\n",
    "from sklearn.preprocessing import LabelEncoder\n",
    "from prince import MCA\n",
    "\n",
    "%matplotlib inline"
   ]
  },
  {
   "cell_type": "markdown",
   "metadata": {
    "heading_collapsed": true,
    "hidden": true
   },
   "source": [
    "### 0.1. Carregando dados"
   ]
  },
  {
   "cell_type": "code",
   "execution_count": 233,
   "metadata": {
    "colab": {},
    "colab_type": "code",
    "hidden": true,
    "id": "WJkv2hFZVJj1"
   },
   "outputs": [],
   "source": [
    "market = pd.read_csv('data/estaticos_market.csv', index_col=0)\n",
    "portfolio_1 = pd.read_csv('data/estaticos_portfolio1.csv', index_col=0)\n",
    "portfolio_2 = pd.read_csv('data/estaticos_portfolio2.csv', index_col=0)\n",
    "portfolio_3 = pd.read_csv('data/estaticos_portfolio3.csv', index_col=0)"
   ]
  },
  {
   "cell_type": "markdown",
   "metadata": {
    "colab_type": "text",
    "heading_collapsed": true,
    "id": "NT5uk_oMVJj4"
   },
   "source": [
    "## 1.0. Descrição dos dados"
   ]
  },
  {
   "cell_type": "markdown",
   "metadata": {
    "colab_type": "text",
    "heading_collapsed": true,
    "hidden": true,
    "id": "QE_e__VKVJj4"
   },
   "source": [
    "### Market"
   ]
  },
  {
   "cell_type": "code",
   "execution_count": 226,
   "metadata": {
    "colab": {},
    "colab_type": "code",
    "hidden": true,
    "id": "ShHCEs_8VJj5"
   },
   "outputs": [
    {
     "data": {
      "text/html": [
       "<div>\n",
       "<style scoped>\n",
       "    .dataframe tbody tr th:only-of-type {\n",
       "        vertical-align: middle;\n",
       "    }\n",
       "\n",
       "    .dataframe tbody tr th {\n",
       "        vertical-align: top;\n",
       "    }\n",
       "\n",
       "    .dataframe thead th {\n",
       "        text-align: right;\n",
       "    }\n",
       "</style>\n",
       "<table border=\"1\" class=\"dataframe\">\n",
       "  <thead>\n",
       "    <tr style=\"text-align: right;\">\n",
       "      <th></th>\n",
       "      <th>id</th>\n",
       "      <th>fl_matriz</th>\n",
       "      <th>de_natureza_juridica</th>\n",
       "      <th>sg_uf</th>\n",
       "      <th>natureza_juridica_macro</th>\n",
       "      <th>de_ramo</th>\n",
       "      <th>setor</th>\n",
       "      <th>idade_empresa_anos</th>\n",
       "      <th>idade_emp_cat</th>\n",
       "      <th>fl_me</th>\n",
       "      <th>...</th>\n",
       "      <th>media_meses_servicos</th>\n",
       "      <th>max_meses_servicos</th>\n",
       "      <th>min_meses_servicos</th>\n",
       "      <th>qt_funcionarios</th>\n",
       "      <th>qt_funcionarios_12meses</th>\n",
       "      <th>qt_funcionarios_24meses</th>\n",
       "      <th>tx_crescimento_12meses</th>\n",
       "      <th>tx_crescimento_24meses</th>\n",
       "      <th>tx_rotatividade</th>\n",
       "      <th>qt_filiais</th>\n",
       "    </tr>\n",
       "  </thead>\n",
       "  <tbody>\n",
       "    <tr>\n",
       "      <th>0</th>\n",
       "      <td>a6984c3ae395090e3bee8ad63c3758b110de096d5d8195...</td>\n",
       "      <td>True</td>\n",
       "      <td>SOCIEDADE EMPRESARIA LIMITADA</td>\n",
       "      <td>RN</td>\n",
       "      <td>ENTIDADES EMPRESARIAIS</td>\n",
       "      <td>INDUSTRIA DA CONSTRUCAO</td>\n",
       "      <td>CONSTRUÇÃO CIVIL</td>\n",
       "      <td>14.457534</td>\n",
       "      <td>10 a 15</td>\n",
       "      <td>False</td>\n",
       "      <td>...</td>\n",
       "      <td>43.738462</td>\n",
       "      <td>93.266667</td>\n",
       "      <td>19.166667</td>\n",
       "      <td>26.0</td>\n",
       "      <td>26.0</td>\n",
       "      <td>27.0</td>\n",
       "      <td>0.0</td>\n",
       "      <td>-3.703704</td>\n",
       "      <td>0.0</td>\n",
       "      <td>0</td>\n",
       "    </tr>\n",
       "    <tr>\n",
       "      <th>1</th>\n",
       "      <td>6178f41ade1365e44bc2c46654c2c8c0eaae27dcb476c4...</td>\n",
       "      <td>True</td>\n",
       "      <td>EMPRESARIO INDIVIDUAL</td>\n",
       "      <td>PI</td>\n",
       "      <td>OUTROS</td>\n",
       "      <td>SERVICOS DE ALOJAMENTO/ALIMENTACAO</td>\n",
       "      <td>SERVIÇO</td>\n",
       "      <td>1.463014</td>\n",
       "      <td>1 a 5</td>\n",
       "      <td>False</td>\n",
       "      <td>...</td>\n",
       "      <td>NaN</td>\n",
       "      <td>NaN</td>\n",
       "      <td>NaN</td>\n",
       "      <td>NaN</td>\n",
       "      <td>NaN</td>\n",
       "      <td>NaN</td>\n",
       "      <td>NaN</td>\n",
       "      <td>NaN</td>\n",
       "      <td>NaN</td>\n",
       "      <td>0</td>\n",
       "    </tr>\n",
       "    <tr>\n",
       "      <th>2</th>\n",
       "      <td>4a7e5069a397f12fdd7fd57111d6dc5d3ba558958efc02...</td>\n",
       "      <td>True</td>\n",
       "      <td>EMPRESARIO INDIVIDUAL</td>\n",
       "      <td>AM</td>\n",
       "      <td>OUTROS</td>\n",
       "      <td>TRANSPORTE, ARMAZENAGEM E CORREIO</td>\n",
       "      <td>SERVIÇO</td>\n",
       "      <td>7.093151</td>\n",
       "      <td>5 a 10</td>\n",
       "      <td>False</td>\n",
       "      <td>...</td>\n",
       "      <td>NaN</td>\n",
       "      <td>NaN</td>\n",
       "      <td>NaN</td>\n",
       "      <td>NaN</td>\n",
       "      <td>NaN</td>\n",
       "      <td>NaN</td>\n",
       "      <td>NaN</td>\n",
       "      <td>NaN</td>\n",
       "      <td>NaN</td>\n",
       "      <td>0</td>\n",
       "    </tr>\n",
       "    <tr>\n",
       "      <th>3</th>\n",
       "      <td>3348900fe63216a439d2e5238c79ddd46ede454df7b9d8...</td>\n",
       "      <td>True</td>\n",
       "      <td>EMPRESARIO INDIVIDUAL</td>\n",
       "      <td>AM</td>\n",
       "      <td>OUTROS</td>\n",
       "      <td>SERVICOS DIVERSOS</td>\n",
       "      <td>SERVIÇO</td>\n",
       "      <td>6.512329</td>\n",
       "      <td>5 a 10</td>\n",
       "      <td>False</td>\n",
       "      <td>...</td>\n",
       "      <td>NaN</td>\n",
       "      <td>NaN</td>\n",
       "      <td>NaN</td>\n",
       "      <td>NaN</td>\n",
       "      <td>NaN</td>\n",
       "      <td>NaN</td>\n",
       "      <td>NaN</td>\n",
       "      <td>NaN</td>\n",
       "      <td>NaN</td>\n",
       "      <td>0</td>\n",
       "    </tr>\n",
       "    <tr>\n",
       "      <th>4</th>\n",
       "      <td>1f9bcabc9d3173c1fe769899e4fac14b053037b953a1e4...</td>\n",
       "      <td>True</td>\n",
       "      <td>EMPRESARIO INDIVIDUAL</td>\n",
       "      <td>RN</td>\n",
       "      <td>OUTROS</td>\n",
       "      <td>SERVICOS PROFISSIONAIS, TECNICOS E CIENTIFICOS</td>\n",
       "      <td>SERVIÇO</td>\n",
       "      <td>3.200000</td>\n",
       "      <td>1 a 5</td>\n",
       "      <td>False</td>\n",
       "      <td>...</td>\n",
       "      <td>NaN</td>\n",
       "      <td>NaN</td>\n",
       "      <td>NaN</td>\n",
       "      <td>NaN</td>\n",
       "      <td>NaN</td>\n",
       "      <td>NaN</td>\n",
       "      <td>NaN</td>\n",
       "      <td>NaN</td>\n",
       "      <td>NaN</td>\n",
       "      <td>0</td>\n",
       "    </tr>\n",
       "  </tbody>\n",
       "</table>\n",
       "<p>5 rows × 181 columns</p>\n",
       "</div>"
      ],
      "text/plain": [
       "                                                  id  fl_matriz  \\\n",
       "0  a6984c3ae395090e3bee8ad63c3758b110de096d5d8195...       True   \n",
       "1  6178f41ade1365e44bc2c46654c2c8c0eaae27dcb476c4...       True   \n",
       "2  4a7e5069a397f12fdd7fd57111d6dc5d3ba558958efc02...       True   \n",
       "3  3348900fe63216a439d2e5238c79ddd46ede454df7b9d8...       True   \n",
       "4  1f9bcabc9d3173c1fe769899e4fac14b053037b953a1e4...       True   \n",
       "\n",
       "            de_natureza_juridica sg_uf natureza_juridica_macro  \\\n",
       "0  SOCIEDADE EMPRESARIA LIMITADA    RN  ENTIDADES EMPRESARIAIS   \n",
       "1          EMPRESARIO INDIVIDUAL    PI                  OUTROS   \n",
       "2          EMPRESARIO INDIVIDUAL    AM                  OUTROS   \n",
       "3          EMPRESARIO INDIVIDUAL    AM                  OUTROS   \n",
       "4          EMPRESARIO INDIVIDUAL    RN                  OUTROS   \n",
       "\n",
       "                                          de_ramo             setor  \\\n",
       "0                         INDUSTRIA DA CONSTRUCAO  CONSTRUÇÃO CIVIL   \n",
       "1              SERVICOS DE ALOJAMENTO/ALIMENTACAO           SERVIÇO   \n",
       "2               TRANSPORTE, ARMAZENAGEM E CORREIO           SERVIÇO   \n",
       "3                               SERVICOS DIVERSOS           SERVIÇO   \n",
       "4  SERVICOS PROFISSIONAIS, TECNICOS E CIENTIFICOS           SERVIÇO   \n",
       "\n",
       "   idade_empresa_anos idade_emp_cat  fl_me  ...  media_meses_servicos  \\\n",
       "0           14.457534       10 a 15  False  ...             43.738462   \n",
       "1            1.463014         1 a 5  False  ...                   NaN   \n",
       "2            7.093151        5 a 10  False  ...                   NaN   \n",
       "3            6.512329        5 a 10  False  ...                   NaN   \n",
       "4            3.200000         1 a 5  False  ...                   NaN   \n",
       "\n",
       "   max_meses_servicos  min_meses_servicos  qt_funcionarios  \\\n",
       "0           93.266667           19.166667             26.0   \n",
       "1                 NaN                 NaN              NaN   \n",
       "2                 NaN                 NaN              NaN   \n",
       "3                 NaN                 NaN              NaN   \n",
       "4                 NaN                 NaN              NaN   \n",
       "\n",
       "  qt_funcionarios_12meses  qt_funcionarios_24meses  tx_crescimento_12meses  \\\n",
       "0                    26.0                     27.0                     0.0   \n",
       "1                     NaN                      NaN                     NaN   \n",
       "2                     NaN                      NaN                     NaN   \n",
       "3                     NaN                      NaN                     NaN   \n",
       "4                     NaN                      NaN                     NaN   \n",
       "\n",
       "   tx_crescimento_24meses tx_rotatividade qt_filiais  \n",
       "0               -3.703704             0.0          0  \n",
       "1                     NaN             NaN          0  \n",
       "2                     NaN             NaN          0  \n",
       "3                     NaN             NaN          0  \n",
       "4                     NaN             NaN          0  \n",
       "\n",
       "[5 rows x 181 columns]"
      ]
     },
     "execution_count": 226,
     "metadata": {},
     "output_type": "execute_result"
    }
   ],
   "source": [
    "market.head()"
   ]
  },
  {
   "cell_type": "code",
   "execution_count": 227,
   "metadata": {
    "colab": {
     "base_uri": "https://localhost:8080/",
     "height": 33
    },
    "colab_type": "code",
    "hidden": true,
    "id": "DBPL1oDIVJj8",
    "outputId": "59aec5ac-99ca-4d82-9635-9b31b576efc0"
   },
   "outputs": [
    {
     "data": {
      "text/plain": [
       "(462298, 181)"
      ]
     },
     "execution_count": 227,
     "metadata": {},
     "output_type": "execute_result"
    }
   ],
   "source": [
    "market.shape"
   ]
  },
  {
   "cell_type": "code",
   "execution_count": 228,
   "metadata": {
    "colab": {
     "base_uri": "https://localhost:8080/",
     "height": 100
    },
    "colab_type": "code",
    "hidden": true,
    "id": "X5da57z0VJj_",
    "outputId": "115c3f9d-5663-4888-ac2a-8d120dd24481",
    "scrolled": true
   },
   "outputs": [
    {
     "name": "stdout",
     "output_type": "stream",
     "text": [
      "<class 'pandas.core.frame.DataFrame'>\n",
      "Int64Index: 462298 entries, 0 to 462297\n",
      "Columns: 181 entries, id to qt_filiais\n",
      "dtypes: bool(9), float64(144), int64(1), object(27)\n",
      "memory usage: 614.1+ MB\n"
     ]
    }
   ],
   "source": [
    "market.info()"
   ]
  },
  {
   "cell_type": "code",
   "execution_count": 243,
   "metadata": {
    "hidden": true
   },
   "outputs": [
    {
     "data": {
      "text/plain": [
       "0"
      ]
     },
     "execution_count": 243,
     "metadata": {},
     "output_type": "execute_result"
    }
   ],
   "source": [
    "market.duplicated().sum()"
   ]
  },
  {
   "cell_type": "markdown",
   "metadata": {
    "heading_collapsed": true,
    "hidden": true
   },
   "source": [
    "### Portfolio 1"
   ]
  },
  {
   "cell_type": "code",
   "execution_count": 234,
   "metadata": {
    "hidden": true
   },
   "outputs": [
    {
     "data": {
      "text/html": [
       "<div>\n",
       "<style scoped>\n",
       "    .dataframe tbody tr th:only-of-type {\n",
       "        vertical-align: middle;\n",
       "    }\n",
       "\n",
       "    .dataframe tbody tr th {\n",
       "        vertical-align: top;\n",
       "    }\n",
       "\n",
       "    .dataframe thead th {\n",
       "        text-align: right;\n",
       "    }\n",
       "</style>\n",
       "<table border=\"1\" class=\"dataframe\">\n",
       "  <thead>\n",
       "    <tr style=\"text-align: right;\">\n",
       "      <th></th>\n",
       "      <th>id</th>\n",
       "      <th>fl_matriz</th>\n",
       "      <th>de_natureza_juridica</th>\n",
       "      <th>sg_uf</th>\n",
       "      <th>natureza_juridica_macro</th>\n",
       "      <th>de_ramo</th>\n",
       "      <th>setor</th>\n",
       "      <th>idade_empresa_anos</th>\n",
       "      <th>idade_emp_cat</th>\n",
       "      <th>fl_me</th>\n",
       "      <th>...</th>\n",
       "      <th>media_meses_servicos</th>\n",
       "      <th>max_meses_servicos</th>\n",
       "      <th>min_meses_servicos</th>\n",
       "      <th>qt_funcionarios</th>\n",
       "      <th>qt_funcionarios_12meses</th>\n",
       "      <th>qt_funcionarios_24meses</th>\n",
       "      <th>tx_crescimento_12meses</th>\n",
       "      <th>tx_crescimento_24meses</th>\n",
       "      <th>tx_rotatividade</th>\n",
       "      <th>qt_filiais</th>\n",
       "    </tr>\n",
       "  </thead>\n",
       "  <tbody>\n",
       "    <tr>\n",
       "      <th>0</th>\n",
       "      <td>dabe79bec87c88ae04e869bf6bd321ee5e1893cecf6625...</td>\n",
       "      <td>True</td>\n",
       "      <td>EMPRESARIO INDIVIDUAL</td>\n",
       "      <td>PI</td>\n",
       "      <td>OUTROS</td>\n",
       "      <td>COMERCIO VAREJISTA</td>\n",
       "      <td>COMERCIO</td>\n",
       "      <td>0.646575</td>\n",
       "      <td>&lt;= 1</td>\n",
       "      <td>False</td>\n",
       "      <td>...</td>\n",
       "      <td>NaN</td>\n",
       "      <td>NaN</td>\n",
       "      <td>NaN</td>\n",
       "      <td>NaN</td>\n",
       "      <td>NaN</td>\n",
       "      <td>NaN</td>\n",
       "      <td>NaN</td>\n",
       "      <td>NaN</td>\n",
       "      <td>NaN</td>\n",
       "      <td>0</td>\n",
       "    </tr>\n",
       "    <tr>\n",
       "      <th>1</th>\n",
       "      <td>32e5f4e10932153a7ba869cb0386e7e02d49d2461046b8...</td>\n",
       "      <td>False</td>\n",
       "      <td>EMPRESARIO INDIVIDUAL</td>\n",
       "      <td>MA</td>\n",
       "      <td>OUTROS</td>\n",
       "      <td>COMERCIO VAREJISTA</td>\n",
       "      <td>COMERCIO</td>\n",
       "      <td>6.586301</td>\n",
       "      <td>5 a 10</td>\n",
       "      <td>False</td>\n",
       "      <td>...</td>\n",
       "      <td>NaN</td>\n",
       "      <td>NaN</td>\n",
       "      <td>NaN</td>\n",
       "      <td>0.0</td>\n",
       "      <td>0.0</td>\n",
       "      <td>2.0</td>\n",
       "      <td>NaN</td>\n",
       "      <td>-100.0</td>\n",
       "      <td>0.0</td>\n",
       "      <td>4</td>\n",
       "    </tr>\n",
       "    <tr>\n",
       "      <th>2</th>\n",
       "      <td>a95d6f30bba445bd3d6b0c5b36f865b38ec01d17336090...</td>\n",
       "      <td>True</td>\n",
       "      <td>EMPRESARIO INDIVIDUAL</td>\n",
       "      <td>MA</td>\n",
       "      <td>OUTROS</td>\n",
       "      <td>COMERCIO VAREJISTA</td>\n",
       "      <td>COMERCIO</td>\n",
       "      <td>8.010959</td>\n",
       "      <td>5 a 10</td>\n",
       "      <td>False</td>\n",
       "      <td>...</td>\n",
       "      <td>NaN</td>\n",
       "      <td>NaN</td>\n",
       "      <td>NaN</td>\n",
       "      <td>NaN</td>\n",
       "      <td>NaN</td>\n",
       "      <td>NaN</td>\n",
       "      <td>NaN</td>\n",
       "      <td>NaN</td>\n",
       "      <td>NaN</td>\n",
       "      <td>0</td>\n",
       "    </tr>\n",
       "    <tr>\n",
       "      <th>3</th>\n",
       "      <td>6cb309685cea0b6d2988818792ec2e6fcb2bd02e0afa9e...</td>\n",
       "      <td>True</td>\n",
       "      <td>EMPRESARIO INDIVIDUAL</td>\n",
       "      <td>RN</td>\n",
       "      <td>OUTROS</td>\n",
       "      <td>COMERCIO VAREJISTA</td>\n",
       "      <td>COMERCIO</td>\n",
       "      <td>20.863014</td>\n",
       "      <td>&gt; 20</td>\n",
       "      <td>False</td>\n",
       "      <td>...</td>\n",
       "      <td>NaN</td>\n",
       "      <td>NaN</td>\n",
       "      <td>NaN</td>\n",
       "      <td>NaN</td>\n",
       "      <td>NaN</td>\n",
       "      <td>NaN</td>\n",
       "      <td>NaN</td>\n",
       "      <td>NaN</td>\n",
       "      <td>NaN</td>\n",
       "      <td>0</td>\n",
       "    </tr>\n",
       "    <tr>\n",
       "      <th>4</th>\n",
       "      <td>f72aa7fa6787b0a5a1c88885b6120850df8ee0f71adc25...</td>\n",
       "      <td>True</td>\n",
       "      <td>SOCIEDADE EMPRESARIA LIMITADA</td>\n",
       "      <td>RN</td>\n",
       "      <td>ENTIDADES EMPRESARIAIS</td>\n",
       "      <td>COMERCIO VAREJISTA</td>\n",
       "      <td>COMERCIO</td>\n",
       "      <td>18.726027</td>\n",
       "      <td>15 a 20</td>\n",
       "      <td>False</td>\n",
       "      <td>...</td>\n",
       "      <td>39.454762</td>\n",
       "      <td>91.2</td>\n",
       "      <td>19.333333</td>\n",
       "      <td>14.0</td>\n",
       "      <td>15.0</td>\n",
       "      <td>25.0</td>\n",
       "      <td>-6.666667</td>\n",
       "      <td>-44.0</td>\n",
       "      <td>0.0</td>\n",
       "      <td>3</td>\n",
       "    </tr>\n",
       "  </tbody>\n",
       "</table>\n",
       "<p>5 rows × 181 columns</p>\n",
       "</div>"
      ],
      "text/plain": [
       "                                                  id  fl_matriz  \\\n",
       "0  dabe79bec87c88ae04e869bf6bd321ee5e1893cecf6625...       True   \n",
       "1  32e5f4e10932153a7ba869cb0386e7e02d49d2461046b8...      False   \n",
       "2  a95d6f30bba445bd3d6b0c5b36f865b38ec01d17336090...       True   \n",
       "3  6cb309685cea0b6d2988818792ec2e6fcb2bd02e0afa9e...       True   \n",
       "4  f72aa7fa6787b0a5a1c88885b6120850df8ee0f71adc25...       True   \n",
       "\n",
       "            de_natureza_juridica sg_uf natureza_juridica_macro  \\\n",
       "0          EMPRESARIO INDIVIDUAL    PI                  OUTROS   \n",
       "1          EMPRESARIO INDIVIDUAL    MA                  OUTROS   \n",
       "2          EMPRESARIO INDIVIDUAL    MA                  OUTROS   \n",
       "3          EMPRESARIO INDIVIDUAL    RN                  OUTROS   \n",
       "4  SOCIEDADE EMPRESARIA LIMITADA    RN  ENTIDADES EMPRESARIAIS   \n",
       "\n",
       "              de_ramo     setor  idade_empresa_anos idade_emp_cat  fl_me  ...  \\\n",
       "0  COMERCIO VAREJISTA  COMERCIO            0.646575          <= 1  False  ...   \n",
       "1  COMERCIO VAREJISTA  COMERCIO            6.586301        5 a 10  False  ...   \n",
       "2  COMERCIO VAREJISTA  COMERCIO            8.010959        5 a 10  False  ...   \n",
       "3  COMERCIO VAREJISTA  COMERCIO           20.863014          > 20  False  ...   \n",
       "4  COMERCIO VAREJISTA  COMERCIO           18.726027       15 a 20  False  ...   \n",
       "\n",
       "   media_meses_servicos  max_meses_servicos  min_meses_servicos  \\\n",
       "0                   NaN                 NaN                 NaN   \n",
       "1                   NaN                 NaN                 NaN   \n",
       "2                   NaN                 NaN                 NaN   \n",
       "3                   NaN                 NaN                 NaN   \n",
       "4             39.454762                91.2           19.333333   \n",
       "\n",
       "   qt_funcionarios qt_funcionarios_12meses  qt_funcionarios_24meses  \\\n",
       "0              NaN                     NaN                      NaN   \n",
       "1              0.0                     0.0                      2.0   \n",
       "2              NaN                     NaN                      NaN   \n",
       "3              NaN                     NaN                      NaN   \n",
       "4             14.0                    15.0                     25.0   \n",
       "\n",
       "   tx_crescimento_12meses  tx_crescimento_24meses tx_rotatividade qt_filiais  \n",
       "0                     NaN                     NaN             NaN          0  \n",
       "1                     NaN                  -100.0             0.0          4  \n",
       "2                     NaN                     NaN             NaN          0  \n",
       "3                     NaN                     NaN             NaN          0  \n",
       "4               -6.666667                   -44.0             0.0          3  \n",
       "\n",
       "[5 rows x 181 columns]"
      ]
     },
     "execution_count": 234,
     "metadata": {},
     "output_type": "execute_result"
    }
   ],
   "source": [
    "portfolio_1.head()"
   ]
  },
  {
   "cell_type": "code",
   "execution_count": 235,
   "metadata": {
    "hidden": true
   },
   "outputs": [
    {
     "data": {
      "text/plain": [
       "(555, 181)"
      ]
     },
     "execution_count": 235,
     "metadata": {},
     "output_type": "execute_result"
    }
   ],
   "source": [
    "portfolio_1.shape"
   ]
  },
  {
   "cell_type": "code",
   "execution_count": 236,
   "metadata": {
    "hidden": true,
    "scrolled": true
   },
   "outputs": [
    {
     "name": "stdout",
     "output_type": "stream",
     "text": [
      "<class 'pandas.core.frame.DataFrame'>\n",
      "Int64Index: 555 entries, 0 to 554\n",
      "Columns: 181 entries, id to qt_filiais\n",
      "dtypes: bool(14), float64(142), int64(3), object(22)\n",
      "memory usage: 736.0+ KB\n"
     ]
    }
   ],
   "source": [
    "portfolio_1.info()"
   ]
  },
  {
   "cell_type": "code",
   "execution_count": 244,
   "metadata": {
    "hidden": true
   },
   "outputs": [
    {
     "data": {
      "text/plain": [
       "0"
      ]
     },
     "execution_count": 244,
     "metadata": {},
     "output_type": "execute_result"
    }
   ],
   "source": [
    "portfolio_1.duplicated().sum()"
   ]
  },
  {
   "cell_type": "markdown",
   "metadata": {
    "heading_collapsed": true,
    "hidden": true
   },
   "source": [
    "### Portfolio 2"
   ]
  },
  {
   "cell_type": "code",
   "execution_count": 237,
   "metadata": {
    "hidden": true
   },
   "outputs": [
    {
     "data": {
      "text/html": [
       "<div>\n",
       "<style scoped>\n",
       "    .dataframe tbody tr th:only-of-type {\n",
       "        vertical-align: middle;\n",
       "    }\n",
       "\n",
       "    .dataframe tbody tr th {\n",
       "        vertical-align: top;\n",
       "    }\n",
       "\n",
       "    .dataframe thead th {\n",
       "        text-align: right;\n",
       "    }\n",
       "</style>\n",
       "<table border=\"1\" class=\"dataframe\">\n",
       "  <thead>\n",
       "    <tr style=\"text-align: right;\">\n",
       "      <th></th>\n",
       "      <th>id</th>\n",
       "    </tr>\n",
       "  </thead>\n",
       "  <tbody>\n",
       "    <tr>\n",
       "      <th>0</th>\n",
       "      <td>09e95c1a84049001d086470a8f320a19b076f955a89122...</td>\n",
       "    </tr>\n",
       "    <tr>\n",
       "      <th>1</th>\n",
       "      <td>dc9d155f5bcd3172031e2ec9431786e8871ff4b0ff4728...</td>\n",
       "    </tr>\n",
       "    <tr>\n",
       "      <th>2</th>\n",
       "      <td>16843c9ffb920170477118933798510d8d5f00f5c56c12...</td>\n",
       "    </tr>\n",
       "    <tr>\n",
       "      <th>3</th>\n",
       "      <td>ff045934d90aab184dd15e66daf3b3c97193bda5449298...</td>\n",
       "    </tr>\n",
       "    <tr>\n",
       "      <th>4</th>\n",
       "      <td>a0ce528caab2c62497a548d0ebd9e935143ef81ed7dbf0...</td>\n",
       "    </tr>\n",
       "  </tbody>\n",
       "</table>\n",
       "</div>"
      ],
      "text/plain": [
       "                                                  id\n",
       "0  09e95c1a84049001d086470a8f320a19b076f955a89122...\n",
       "1  dc9d155f5bcd3172031e2ec9431786e8871ff4b0ff4728...\n",
       "2  16843c9ffb920170477118933798510d8d5f00f5c56c12...\n",
       "3  ff045934d90aab184dd15e66daf3b3c97193bda5449298...\n",
       "4  a0ce528caab2c62497a548d0ebd9e935143ef81ed7dbf0..."
      ]
     },
     "execution_count": 237,
     "metadata": {},
     "output_type": "execute_result"
    }
   ],
   "source": [
    "portfolio_2.head()"
   ]
  },
  {
   "cell_type": "code",
   "execution_count": 238,
   "metadata": {
    "hidden": true
   },
   "outputs": [
    {
     "data": {
      "text/plain": [
       "(566, 1)"
      ]
     },
     "execution_count": 238,
     "metadata": {},
     "output_type": "execute_result"
    }
   ],
   "source": [
    "portfolio_2.shape"
   ]
  },
  {
   "cell_type": "code",
   "execution_count": 239,
   "metadata": {
    "hidden": true,
    "scrolled": true
   },
   "outputs": [
    {
     "name": "stdout",
     "output_type": "stream",
     "text": [
      "<class 'pandas.core.frame.DataFrame'>\n",
      "Int64Index: 566 entries, 0 to 565\n",
      "Data columns (total 1 columns):\n",
      " #   Column  Non-Null Count  Dtype \n",
      "---  ------  --------------  ----- \n",
      " 0   id      566 non-null    object\n",
      "dtypes: object(1)\n",
      "memory usage: 8.8+ KB\n"
     ]
    }
   ],
   "source": [
    "portfolio_2.info()"
   ]
  },
  {
   "cell_type": "code",
   "execution_count": 245,
   "metadata": {
    "hidden": true
   },
   "outputs": [
    {
     "data": {
      "text/plain": [
       "0"
      ]
     },
     "execution_count": 245,
     "metadata": {},
     "output_type": "execute_result"
    }
   ],
   "source": [
    "portfolio_2.duplicated().sum()"
   ]
  },
  {
   "cell_type": "markdown",
   "metadata": {
    "heading_collapsed": true,
    "hidden": true
   },
   "source": [
    "### Portfolio 3"
   ]
  },
  {
   "cell_type": "code",
   "execution_count": 240,
   "metadata": {
    "hidden": true,
    "scrolled": true
   },
   "outputs": [
    {
     "data": {
      "text/html": [
       "<div>\n",
       "<style scoped>\n",
       "    .dataframe tbody tr th:only-of-type {\n",
       "        vertical-align: middle;\n",
       "    }\n",
       "\n",
       "    .dataframe tbody tr th {\n",
       "        vertical-align: top;\n",
       "    }\n",
       "\n",
       "    .dataframe thead th {\n",
       "        text-align: right;\n",
       "    }\n",
       "</style>\n",
       "<table border=\"1\" class=\"dataframe\">\n",
       "  <thead>\n",
       "    <tr style=\"text-align: right;\">\n",
       "      <th></th>\n",
       "      <th>id</th>\n",
       "    </tr>\n",
       "  </thead>\n",
       "  <tbody>\n",
       "    <tr>\n",
       "      <th>0</th>\n",
       "      <td>bb61c09449a1c1f8b78955d8b7a7f73599e78358993fe2...</td>\n",
       "    </tr>\n",
       "    <tr>\n",
       "      <th>1</th>\n",
       "      <td>16843c9ffb920170477118933798510d8d5f00f5c56c12...</td>\n",
       "    </tr>\n",
       "    <tr>\n",
       "      <th>2</th>\n",
       "      <td>1b8d092daff12bed8b3c2ab93bf5df2921865a68aca185...</td>\n",
       "    </tr>\n",
       "    <tr>\n",
       "      <th>3</th>\n",
       "      <td>3aafa3a1f12f483740a52956af100223333d0e3c79bf2c...</td>\n",
       "    </tr>\n",
       "    <tr>\n",
       "      <th>4</th>\n",
       "      <td>c60431fbca90067f105570e1e8a684bcd7048205bbf6c4...</td>\n",
       "    </tr>\n",
       "  </tbody>\n",
       "</table>\n",
       "</div>"
      ],
      "text/plain": [
       "                                                  id\n",
       "0  bb61c09449a1c1f8b78955d8b7a7f73599e78358993fe2...\n",
       "1  16843c9ffb920170477118933798510d8d5f00f5c56c12...\n",
       "2  1b8d092daff12bed8b3c2ab93bf5df2921865a68aca185...\n",
       "3  3aafa3a1f12f483740a52956af100223333d0e3c79bf2c...\n",
       "4  c60431fbca90067f105570e1e8a684bcd7048205bbf6c4..."
      ]
     },
     "execution_count": 240,
     "metadata": {},
     "output_type": "execute_result"
    }
   ],
   "source": [
    "portfolio_3.head()"
   ]
  },
  {
   "cell_type": "code",
   "execution_count": 241,
   "metadata": {
    "hidden": true
   },
   "outputs": [
    {
     "data": {
      "text/plain": [
       "(265, 1)"
      ]
     },
     "execution_count": 241,
     "metadata": {},
     "output_type": "execute_result"
    }
   ],
   "source": [
    "portfolio_3.shape"
   ]
  },
  {
   "cell_type": "code",
   "execution_count": 242,
   "metadata": {
    "hidden": true,
    "scrolled": true
   },
   "outputs": [
    {
     "name": "stdout",
     "output_type": "stream",
     "text": [
      "<class 'pandas.core.frame.DataFrame'>\n",
      "Int64Index: 265 entries, 0 to 264\n",
      "Data columns (total 1 columns):\n",
      " #   Column  Non-Null Count  Dtype \n",
      "---  ------  --------------  ----- \n",
      " 0   id      265 non-null    object\n",
      "dtypes: object(1)\n",
      "memory usage: 4.1+ KB\n"
     ]
    }
   ],
   "source": [
    "portfolio_3.info()"
   ]
  },
  {
   "cell_type": "code",
   "execution_count": 246,
   "metadata": {
    "hidden": true
   },
   "outputs": [
    {
     "data": {
      "text/plain": [
       "0"
      ]
     },
     "execution_count": 246,
     "metadata": {},
     "output_type": "execute_result"
    }
   ],
   "source": [
    "portfolio_3.duplicated().sum()"
   ]
  },
  {
   "cell_type": "markdown",
   "metadata": {
    "hidden": true
   },
   "source": [
    "Conseguimos notar que, diferentemente do portfolio 1, o segundo e o terceiro apresentam somente os id's. Será necessário extrair seus dados de market posteriormente."
   ]
  },
  {
   "cell_type": "markdown",
   "metadata": {
    "heading_collapsed": true,
    "hidden": true
   },
   "source": [
    "### 1.1. Dados faltantes"
   ]
  },
  {
   "cell_type": "code",
   "execution_count": 247,
   "metadata": {
    "colab": {
     "base_uri": "https://localhost:8080/",
     "height": 217
    },
    "colab_type": "code",
    "hidden": true,
    "id": "bHMEwKyyVJkG",
    "outputId": "f9c4be01-08ba-4d49-c110-ed4b79417db0",
    "scrolled": true
   },
   "outputs": [
    {
     "data": {
      "text/plain": [
       "id                              0\n",
       "fl_matriz                       0\n",
       "de_natureza_juridica            0\n",
       "sg_uf                           0\n",
       "natureza_juridica_macro         0\n",
       "                            ...  \n",
       "qt_funcionarios_24meses    358724\n",
       "tx_crescimento_12meses     388410\n",
       "tx_crescimento_24meses     388284\n",
       "tx_rotatividade            358724\n",
       "qt_filiais                      0\n",
       "Length: 181, dtype: int64"
      ]
     },
     "execution_count": 247,
     "metadata": {},
     "output_type": "execute_result"
    }
   ],
   "source": [
    "market.isna().sum()"
   ]
  },
  {
   "cell_type": "markdown",
   "metadata": {
    "hidden": true
   },
   "source": [
    "Existe uma grande quantidade de missing data. Então, vamos manter apenas as colunas com menos de 15% de dados faltantes."
   ]
  },
  {
   "cell_type": "code",
   "execution_count": 250,
   "metadata": {
    "colab": {},
    "colab_type": "code",
    "hidden": true,
    "id": "CPf8_VqWVJkI"
   },
   "outputs": [],
   "source": [
    "market_missing = market.isna().sum()"
   ]
  },
  {
   "cell_type": "code",
   "execution_count": 251,
   "metadata": {
    "colab": {},
    "colab_type": "code",
    "collapsed": true,
    "hidden": true,
    "id": "PmnRAmceVJkL"
   },
   "outputs": [
    {
     "data": {
      "text/plain": [
       "[None,\n",
       " None,\n",
       " None,\n",
       " None,\n",
       " None,\n",
       " None,\n",
       " None,\n",
       " None,\n",
       " None,\n",
       " None,\n",
       " None,\n",
       " None,\n",
       " None,\n",
       " None,\n",
       " None,\n",
       " None,\n",
       " None,\n",
       " None,\n",
       " None,\n",
       " None,\n",
       " None,\n",
       " None,\n",
       " None,\n",
       " None,\n",
       " None,\n",
       " None,\n",
       " None,\n",
       " None,\n",
       " None,\n",
       " None,\n",
       " None,\n",
       " None,\n",
       " None,\n",
       " None,\n",
       " None,\n",
       " None,\n",
       " None,\n",
       " None,\n",
       " None,\n",
       " None]"
      ]
     },
     "execution_count": 251,
     "metadata": {},
     "output_type": "execute_result"
    }
   ],
   "source": [
    "cols = []\n",
    "[cols.append(col) for col in market.columns if market_missing[col] / len(market) < 0.15]"
   ]
  },
  {
   "cell_type": "code",
   "execution_count": 252,
   "metadata": {
    "colab": {},
    "colab_type": "code",
    "hidden": true,
    "id": "v3mJA7NwVJkQ"
   },
   "outputs": [],
   "source": [
    "new_market = market[cols]"
   ]
  },
  {
   "cell_type": "code",
   "execution_count": 253,
   "metadata": {
    "colab": {},
    "colab_type": "code",
    "hidden": true,
    "id": "FY4WP01i44KI"
   },
   "outputs": [
    {
     "data": {
      "text/plain": [
       "id                                         0\n",
       "fl_matriz                                  0\n",
       "de_natureza_juridica                       0\n",
       "sg_uf                                      0\n",
       "natureza_juridica_macro                    0\n",
       "de_ramo                                    0\n",
       "setor                                   1927\n",
       "idade_empresa_anos                         0\n",
       "idade_emp_cat                              0\n",
       "fl_me                                      0\n",
       "fl_sa                                      0\n",
       "fl_epp                                     0\n",
       "fl_mei                                     0\n",
       "fl_ltda                                    0\n",
       "dt_situacao                                6\n",
       "fl_st_especial                             0\n",
       "fl_email                                   0\n",
       "fl_telefone                                0\n",
       "fl_rm                                      0\n",
       "nm_divisao                              1927\n",
       "nm_segmento                             1927\n",
       "fl_spa                                  1927\n",
       "fl_antt                                 1927\n",
       "fl_veiculo                              1927\n",
       "vl_total_veiculos_pesados_grupo         1927\n",
       "vl_total_veiculos_leves_grupo           1927\n",
       "sg_uf_matriz                            1939\n",
       "de_saude_tributaria                    14851\n",
       "de_saude_rescencia                     14851\n",
       "nu_meses_rescencia                     45276\n",
       "de_nivel_atividade                     11168\n",
       "fl_simples_irregular                    1927\n",
       "nm_meso_regiao                         58698\n",
       "nm_micro_regiao                        58698\n",
       "fl_passivel_iss                         1927\n",
       "de_faixa_faturamento_estimado          27513\n",
       "de_faixa_faturamento_estimado_grupo    27513\n",
       "vl_faturamento_estimado_aux            27513\n",
       "vl_faturamento_estimado_grupo_aux      27513\n",
       "qt_filiais                                 0\n",
       "dtype: int64"
      ]
     },
     "execution_count": 253,
     "metadata": {},
     "output_type": "execute_result"
    }
   ],
   "source": [
    "new_market.isna().sum()"
   ]
  },
  {
   "cell_type": "markdown",
   "metadata": {
    "hidden": true
   },
   "source": [
    "Agora, podemos remover as linhas que aprensetam dados faltantes sem perder tanto de nosso dataset."
   ]
  },
  {
   "cell_type": "code",
   "execution_count": 254,
   "metadata": {
    "colab": {},
    "colab_type": "code",
    "hidden": true,
    "id": "RD0dWu3aVJkT"
   },
   "outputs": [],
   "source": [
    "new_market = new_market.dropna()"
   ]
  },
  {
   "cell_type": "code",
   "execution_count": 255,
   "metadata": {
    "colab": {
     "base_uri": "https://localhost:8080/",
     "height": 33
    },
    "colab_type": "code",
    "hidden": true,
    "id": "WA2uM3maVJkV",
    "outputId": "719959a1-09a4-46dc-c044-ec1c885373f9"
   },
   "outputs": [
    {
     "data": {
      "text/plain": [
       "(364549, 40)"
      ]
     },
     "execution_count": 255,
     "metadata": {},
     "output_type": "execute_result"
    }
   ],
   "source": [
    "new_market.shape"
   ]
  },
  {
   "cell_type": "code",
   "execution_count": 256,
   "metadata": {
    "colab": {
     "base_uri": "https://localhost:8080/",
     "height": 702
    },
    "colab_type": "code",
    "hidden": true,
    "id": "taHyZnNMVJkX",
    "outputId": "6e3aad28-7330-4db6-9dec-9ce688fe7468"
   },
   "outputs": [
    {
     "data": {
      "text/plain": [
       "id                                     0\n",
       "fl_matriz                              0\n",
       "de_natureza_juridica                   0\n",
       "sg_uf                                  0\n",
       "natureza_juridica_macro                0\n",
       "de_ramo                                0\n",
       "setor                                  0\n",
       "idade_empresa_anos                     0\n",
       "idade_emp_cat                          0\n",
       "fl_me                                  0\n",
       "fl_sa                                  0\n",
       "fl_epp                                 0\n",
       "fl_mei                                 0\n",
       "fl_ltda                                0\n",
       "dt_situacao                            0\n",
       "fl_st_especial                         0\n",
       "fl_email                               0\n",
       "fl_telefone                            0\n",
       "fl_rm                                  0\n",
       "nm_divisao                             0\n",
       "nm_segmento                            0\n",
       "fl_spa                                 0\n",
       "fl_antt                                0\n",
       "fl_veiculo                             0\n",
       "vl_total_veiculos_pesados_grupo        0\n",
       "vl_total_veiculos_leves_grupo          0\n",
       "sg_uf_matriz                           0\n",
       "de_saude_tributaria                    0\n",
       "de_saude_rescencia                     0\n",
       "nu_meses_rescencia                     0\n",
       "de_nivel_atividade                     0\n",
       "fl_simples_irregular                   0\n",
       "nm_meso_regiao                         0\n",
       "nm_micro_regiao                        0\n",
       "fl_passivel_iss                        0\n",
       "de_faixa_faturamento_estimado          0\n",
       "de_faixa_faturamento_estimado_grupo    0\n",
       "vl_faturamento_estimado_aux            0\n",
       "vl_faturamento_estimado_grupo_aux      0\n",
       "qt_filiais                             0\n",
       "dtype: int64"
      ]
     },
     "execution_count": 256,
     "metadata": {},
     "output_type": "execute_result"
    }
   ],
   "source": [
    "new_market.isna().sum()"
   ]
  },
  {
   "cell_type": "markdown",
   "metadata": {
    "colab_type": "text",
    "heading_collapsed": true,
    "id": "WIog7HbFVJkc"
   },
   "source": [
    "## 2.0. Seleção de variáveis"
   ]
  },
  {
   "cell_type": "markdown",
   "metadata": {
    "hidden": true
   },
   "source": [
    "Ao observar a [descrição das variáveis](https://s3-us-west-1.amazonaws.com/codenation-challenges/ml-leads/features_dictionary.pdf), podemos notar que existem algumas que são redundantes e algumas que não aparentam acrescentar nada ao modelo. Vamos removê-las."
   ]
  },
  {
   "cell_type": "code",
   "execution_count": 257,
   "metadata": {
    "colab": {},
    "colab_type": "code",
    "hidden": true,
    "id": "WRtIYagjVJko"
   },
   "outputs": [],
   "source": [
    "new_market.drop(['idade_emp_cat', 'dt_situacao', \n",
    "                 'de_faixa_faturamento_estimado',\n",
    "                 'de_faixa_faturamento_estimado_grupo',\n",
    "                 'fl_email', 'fl_telefone',\n",
    "                 'fl_matriz', 'vl_total_veiculos_pesados_grupo',\n",
    "                 'vl_total_veiculos_leves_grupo', 'nu_meses_rescencia',\n",
    "                 'vl_faturamento_estimado_grupo_aux'], axis=1, inplace=True)"
   ]
  },
  {
   "cell_type": "code",
   "execution_count": 258,
   "metadata": {
    "colab": {
     "base_uri": "https://localhost:8080/",
     "height": 201
    },
    "colab_type": "code",
    "hidden": true,
    "id": "8PPHb97wVJkq",
    "outputId": "46758544-740e-413e-a9fd-0b2d2040de7c"
   },
   "outputs": [
    {
     "data": {
      "text/plain": [
       "Index(['id', 'de_natureza_juridica', 'sg_uf', 'natureza_juridica_macro',\n",
       "       'de_ramo', 'setor', 'idade_empresa_anos', 'fl_me', 'fl_sa', 'fl_epp',\n",
       "       'fl_mei', 'fl_ltda', 'fl_st_especial', 'fl_rm', 'nm_divisao',\n",
       "       'nm_segmento', 'fl_spa', 'fl_antt', 'fl_veiculo', 'sg_uf_matriz',\n",
       "       'de_saude_tributaria', 'de_saude_rescencia', 'de_nivel_atividade',\n",
       "       'fl_simples_irregular', 'nm_meso_regiao', 'nm_micro_regiao',\n",
       "       'fl_passivel_iss', 'vl_faturamento_estimado_aux', 'qt_filiais'],\n",
       "      dtype='object')"
      ]
     },
     "execution_count": 258,
     "metadata": {},
     "output_type": "execute_result"
    }
   ],
   "source": [
    "new_market.columns"
   ]
  },
  {
   "cell_type": "code",
   "execution_count": 259,
   "metadata": {
    "colab": {
     "base_uri": "https://localhost:8080/",
     "height": 33
    },
    "colab_type": "code",
    "hidden": true,
    "id": "Odh-fhxaVJks",
    "outputId": "87fd80b8-e4b7-4aba-bf88-8e1173aabddb"
   },
   "outputs": [
    {
     "data": {
      "text/plain": [
       "(364549, 29)"
      ]
     },
     "execution_count": 259,
     "metadata": {},
     "output_type": "execute_result"
    }
   ],
   "source": [
    "new_market.shape"
   ]
  },
  {
   "cell_type": "markdown",
   "metadata": {
    "colab_type": "text",
    "heading_collapsed": true,
    "id": "RfdtRAq6VJlA"
   },
   "source": [
    "## 3.0. Pré-processamento de dados"
   ]
  },
  {
   "cell_type": "markdown",
   "metadata": {
    "heading_collapsed": true,
    "hidden": true
   },
   "source": [
    "### 3.1. Transformando variáveis booleanas"
   ]
  },
  {
   "cell_type": "code",
   "execution_count": 260,
   "metadata": {
    "hidden": true
   },
   "outputs": [
    {
     "data": {
      "text/plain": [
       "id                              object\n",
       "de_natureza_juridica            object\n",
       "sg_uf                           object\n",
       "natureza_juridica_macro         object\n",
       "de_ramo                         object\n",
       "setor                           object\n",
       "idade_empresa_anos             float64\n",
       "fl_me                             bool\n",
       "fl_sa                             bool\n",
       "fl_epp                            bool\n",
       "fl_mei                            bool\n",
       "fl_ltda                           bool\n",
       "fl_st_especial                    bool\n",
       "fl_rm                           object\n",
       "nm_divisao                      object\n",
       "nm_segmento                     object\n",
       "fl_spa                          object\n",
       "fl_antt                         object\n",
       "fl_veiculo                      object\n",
       "sg_uf_matriz                    object\n",
       "de_saude_tributaria             object\n",
       "de_saude_rescencia              object\n",
       "de_nivel_atividade              object\n",
       "fl_simples_irregular            object\n",
       "nm_meso_regiao                  object\n",
       "nm_micro_regiao                 object\n",
       "fl_passivel_iss                 object\n",
       "vl_faturamento_estimado_aux    float64\n",
       "qt_filiais                       int64\n",
       "dtype: object"
      ]
     },
     "execution_count": 260,
     "metadata": {},
     "output_type": "execute_result"
    }
   ],
   "source": [
    "new_market.dtypes"
   ]
  },
  {
   "cell_type": "code",
   "execution_count": 261,
   "metadata": {
    "colab": {
     "base_uri": "https://localhost:8080/",
     "height": 117
    },
    "colab_type": "code",
    "hidden": true,
    "id": "THNTIjGjVJku",
    "outputId": "cc56495b-28a6-4e45-b26a-878cab4eb243",
    "scrolled": true
   },
   "outputs": [
    {
     "name": "stdout",
     "output_type": "stream",
     "text": [
      "fl_rm\n",
      "fl_spa\n",
      "fl_antt\n",
      "fl_veiculo\n",
      "fl_simples_irregular\n",
      "fl_passivel_iss\n"
     ]
    }
   ],
   "source": [
    "for col in new_market.select_dtypes(include=['object']):\n",
    "    if new_market.select_dtypes(include=['object'])[col].nunique() == 2:\n",
    "        print(col)"
   ]
  },
  {
   "cell_type": "markdown",
   "metadata": {
    "hidden": true
   },
   "source": [
    "Ao analisar um pouco mais nossas variáveis categóricas, percebemos que algumas são binárias. Podemos convertê-las para booleanas."
   ]
  },
  {
   "cell_type": "code",
   "execution_count": 262,
   "metadata": {
    "colab": {
     "base_uri": "https://localhost:8080/",
     "height": 217
    },
    "colab_type": "code",
    "hidden": true,
    "id": "-WPT0zwuVJkw",
    "outputId": "d3975d44-c0be-444e-fec5-fb66765d790a"
   },
   "outputs": [
    {
     "data": {
      "text/plain": [
       "0         SIM\n",
       "1         SIM\n",
       "2         SIM\n",
       "3         SIM\n",
       "4         SIM\n",
       "         ... \n",
       "462290    SIM\n",
       "462291    SIM\n",
       "462293    NAO\n",
       "462294    SIM\n",
       "462295    SIM\n",
       "Name: fl_rm, Length: 364549, dtype: object"
      ]
     },
     "execution_count": 262,
     "metadata": {},
     "output_type": "execute_result"
    }
   ],
   "source": [
    "new_market['fl_rm']"
   ]
  },
  {
   "cell_type": "code",
   "execution_count": 263,
   "metadata": {
    "colab": {},
    "colab_type": "code",
    "hidden": true,
    "id": "53-SiznYVJkz"
   },
   "outputs": [],
   "source": [
    "new_market.replace({'fl_rm': {'SIM': True, 'NAO': False}}, inplace=True)"
   ]
  },
  {
   "cell_type": "code",
   "execution_count": 264,
   "metadata": {
    "colab": {},
    "colab_type": "code",
    "hidden": true,
    "id": "J2k5b5fzVJk1"
   },
   "outputs": [],
   "source": [
    "new_market['fl_spa'] = new_market['fl_spa'].astype('bool')\n",
    "new_market['fl_antt'] = new_market['fl_spa'].astype('bool')\n",
    "new_market['fl_veiculo'] = new_market['fl_spa'].astype('bool')\n",
    "new_market['fl_simples_irregular'] = new_market['fl_spa'].astype('bool')\n",
    "new_market['fl_passivel_iss'] = new_market['fl_spa'].astype('bool')\n",
    "new_market['fl_rm'] = new_market['fl_spa'].astype('bool')"
   ]
  },
  {
   "cell_type": "markdown",
   "metadata": {
    "heading_collapsed": true,
    "hidden": true
   },
   "source": [
    "### 3.2. LabelEncoder"
   ]
  },
  {
   "cell_type": "markdown",
   "metadata": {
    "hidden": true
   },
   "source": [
    "Agora, podemos transformar nossas variáveis categóricas em números."
   ]
  },
  {
   "cell_type": "markdown",
   "metadata": {
    "hidden": true
   },
   "source": [
    "Selecionando apenas as variáveis categóricas para efetivamente transformá-las em categóricas:"
   ]
  },
  {
   "cell_type": "code",
   "execution_count": 267,
   "metadata": {
    "colab": {},
    "colab_type": "code",
    "hidden": true,
    "id": "W-5kKmPQVJlD"
   },
   "outputs": [],
   "source": [
    "object_cols = new_market.select_dtypes(include='object').columns[1:]"
   ]
  },
  {
   "cell_type": "code",
   "execution_count": 268,
   "metadata": {
    "colab": {},
    "colab_type": "code",
    "hidden": true,
    "id": "XWACEUZ-VJlF"
   },
   "outputs": [],
   "source": [
    "for col in object_cols:\n",
    "    new_market[col] = new_market[col].astype('category')"
   ]
  },
  {
   "cell_type": "code",
   "execution_count": 269,
   "metadata": {
    "colab": {},
    "colab_type": "code",
    "hidden": true,
    "id": "1xmEwTVEVJlH"
   },
   "outputs": [],
   "source": [
    "cat_cols = new_market.select_dtypes(include=['category']).columns"
   ]
  },
  {
   "cell_type": "code",
   "execution_count": 271,
   "metadata": {
    "colab": {},
    "colab_type": "code",
    "hidden": true,
    "id": "0I9WlNg7VJlN"
   },
   "outputs": [],
   "source": [
    "encoded_market = new_market.copy()"
   ]
  },
  {
   "cell_type": "code",
   "execution_count": 272,
   "metadata": {
    "colab": {},
    "colab_type": "code",
    "hidden": true,
    "id": "_WP5mDL3VJlP"
   },
   "outputs": [],
   "source": [
    "le = LabelEncoder()\n",
    "\n",
    "for col in non_numerical_cols:\n",
    "    encoded_market[col] = le.fit_transform(encoded_market[col])"
   ]
  },
  {
   "cell_type": "code",
   "execution_count": 273,
   "metadata": {
    "colab": {
     "base_uri": "https://localhost:8080/",
     "height": 216
    },
    "colab_type": "code",
    "hidden": true,
    "id": "E1659kkEVJll",
    "outputId": "aad9b314-b05d-472c-de33-dc110ee2fb4d"
   },
   "outputs": [
    {
     "data": {
      "text/html": [
       "<div>\n",
       "<style scoped>\n",
       "    .dataframe tbody tr th:only-of-type {\n",
       "        vertical-align: middle;\n",
       "    }\n",
       "\n",
       "    .dataframe tbody tr th {\n",
       "        vertical-align: top;\n",
       "    }\n",
       "\n",
       "    .dataframe thead th {\n",
       "        text-align: right;\n",
       "    }\n",
       "</style>\n",
       "<table border=\"1\" class=\"dataframe\">\n",
       "  <thead>\n",
       "    <tr style=\"text-align: right;\">\n",
       "      <th></th>\n",
       "      <th>id</th>\n",
       "      <th>de_natureza_juridica</th>\n",
       "      <th>sg_uf</th>\n",
       "      <th>natureza_juridica_macro</th>\n",
       "      <th>de_ramo</th>\n",
       "      <th>setor</th>\n",
       "      <th>idade_empresa_anos</th>\n",
       "      <th>fl_me</th>\n",
       "      <th>fl_sa</th>\n",
       "      <th>fl_epp</th>\n",
       "      <th>...</th>\n",
       "      <th>sg_uf_matriz</th>\n",
       "      <th>de_saude_tributaria</th>\n",
       "      <th>de_saude_rescencia</th>\n",
       "      <th>de_nivel_atividade</th>\n",
       "      <th>fl_simples_irregular</th>\n",
       "      <th>nm_meso_regiao</th>\n",
       "      <th>nm_micro_regiao</th>\n",
       "      <th>fl_passivel_iss</th>\n",
       "      <th>vl_faturamento_estimado_aux</th>\n",
       "      <th>qt_filiais</th>\n",
       "    </tr>\n",
       "  </thead>\n",
       "  <tbody>\n",
       "    <tr>\n",
       "      <th>0</th>\n",
       "      <td>a6984c3ae395090e3bee8ad63c3758b110de096d5d8195...</td>\n",
       "      <td>57</td>\n",
       "      <td>4</td>\n",
       "      <td>2</td>\n",
       "      <td>11</td>\n",
       "      <td>2</td>\n",
       "      <td>14.457534</td>\n",
       "      <td>0</td>\n",
       "      <td>0</td>\n",
       "      <td>0</td>\n",
       "      <td>...</td>\n",
       "      <td>19</td>\n",
       "      <td>4</td>\n",
       "      <td>0</td>\n",
       "      <td>0</td>\n",
       "      <td>0</td>\n",
       "      <td>6</td>\n",
       "      <td>48</td>\n",
       "      <td>0</td>\n",
       "      <td>3132172.8</td>\n",
       "      <td>0</td>\n",
       "    </tr>\n",
       "    <tr>\n",
       "      <th>1</th>\n",
       "      <td>6178f41ade1365e44bc2c46654c2c8c0eaae27dcb476c4...</td>\n",
       "      <td>16</td>\n",
       "      <td>3</td>\n",
       "      <td>5</td>\n",
       "      <td>20</td>\n",
       "      <td>4</td>\n",
       "      <td>1.463014</td>\n",
       "      <td>0</td>\n",
       "      <td>0</td>\n",
       "      <td>0</td>\n",
       "      <td>...</td>\n",
       "      <td>16</td>\n",
       "      <td>2</td>\n",
       "      <td>1</td>\n",
       "      <td>1</td>\n",
       "      <td>0</td>\n",
       "      <td>4</td>\n",
       "      <td>69</td>\n",
       "      <td>0</td>\n",
       "      <td>210000.0</td>\n",
       "      <td>0</td>\n",
       "    </tr>\n",
       "    <tr>\n",
       "      <th>2</th>\n",
       "      <td>4a7e5069a397f12fdd7fd57111d6dc5d3ba558958efc02...</td>\n",
       "      <td>16</td>\n",
       "      <td>1</td>\n",
       "      <td>5</td>\n",
       "      <td>31</td>\n",
       "      <td>4</td>\n",
       "      <td>7.093151</td>\n",
       "      <td>0</td>\n",
       "      <td>0</td>\n",
       "      <td>0</td>\n",
       "      <td>...</td>\n",
       "      <td>2</td>\n",
       "      <td>0</td>\n",
       "      <td>0</td>\n",
       "      <td>2</td>\n",
       "      <td>0</td>\n",
       "      <td>2</td>\n",
       "      <td>43</td>\n",
       "      <td>0</td>\n",
       "      <td>50000.0</td>\n",
       "      <td>0</td>\n",
       "    </tr>\n",
       "    <tr>\n",
       "      <th>3</th>\n",
       "      <td>3348900fe63216a439d2e5238c79ddd46ede454df7b9d8...</td>\n",
       "      <td>16</td>\n",
       "      <td>1</td>\n",
       "      <td>5</td>\n",
       "      <td>24</td>\n",
       "      <td>4</td>\n",
       "      <td>6.512329</td>\n",
       "      <td>0</td>\n",
       "      <td>0</td>\n",
       "      <td>0</td>\n",
       "      <td>...</td>\n",
       "      <td>2</td>\n",
       "      <td>0</td>\n",
       "      <td>0</td>\n",
       "      <td>2</td>\n",
       "      <td>0</td>\n",
       "      <td>2</td>\n",
       "      <td>43</td>\n",
       "      <td>0</td>\n",
       "      <td>210000.0</td>\n",
       "      <td>0</td>\n",
       "    </tr>\n",
       "    <tr>\n",
       "      <th>4</th>\n",
       "      <td>1f9bcabc9d3173c1fe769899e4fac14b053037b953a1e4...</td>\n",
       "      <td>16</td>\n",
       "      <td>4</td>\n",
       "      <td>5</td>\n",
       "      <td>26</td>\n",
       "      <td>4</td>\n",
       "      <td>3.200000</td>\n",
       "      <td>0</td>\n",
       "      <td>0</td>\n",
       "      <td>0</td>\n",
       "      <td>...</td>\n",
       "      <td>19</td>\n",
       "      <td>4</td>\n",
       "      <td>0</td>\n",
       "      <td>0</td>\n",
       "      <td>0</td>\n",
       "      <td>6</td>\n",
       "      <td>48</td>\n",
       "      <td>0</td>\n",
       "      <td>210000.0</td>\n",
       "      <td>0</td>\n",
       "    </tr>\n",
       "  </tbody>\n",
       "</table>\n",
       "<p>5 rows × 29 columns</p>\n",
       "</div>"
      ],
      "text/plain": [
       "                                                  id  de_natureza_juridica  \\\n",
       "0  a6984c3ae395090e3bee8ad63c3758b110de096d5d8195...                    57   \n",
       "1  6178f41ade1365e44bc2c46654c2c8c0eaae27dcb476c4...                    16   \n",
       "2  4a7e5069a397f12fdd7fd57111d6dc5d3ba558958efc02...                    16   \n",
       "3  3348900fe63216a439d2e5238c79ddd46ede454df7b9d8...                    16   \n",
       "4  1f9bcabc9d3173c1fe769899e4fac14b053037b953a1e4...                    16   \n",
       "\n",
       "   sg_uf  natureza_juridica_macro  de_ramo  setor  idade_empresa_anos  fl_me  \\\n",
       "0      4                        2       11      2           14.457534      0   \n",
       "1      3                        5       20      4            1.463014      0   \n",
       "2      1                        5       31      4            7.093151      0   \n",
       "3      1                        5       24      4            6.512329      0   \n",
       "4      4                        5       26      4            3.200000      0   \n",
       "\n",
       "   fl_sa  fl_epp  ...  sg_uf_matriz  de_saude_tributaria  de_saude_rescencia  \\\n",
       "0      0       0  ...            19                    4                   0   \n",
       "1      0       0  ...            16                    2                   1   \n",
       "2      0       0  ...             2                    0                   0   \n",
       "3      0       0  ...             2                    0                   0   \n",
       "4      0       0  ...            19                    4                   0   \n",
       "\n",
       "   de_nivel_atividade  fl_simples_irregular  nm_meso_regiao  nm_micro_regiao  \\\n",
       "0                   0                     0               6               48   \n",
       "1                   1                     0               4               69   \n",
       "2                   2                     0               2               43   \n",
       "3                   2                     0               2               43   \n",
       "4                   0                     0               6               48   \n",
       "\n",
       "   fl_passivel_iss  vl_faturamento_estimado_aux  qt_filiais  \n",
       "0                0                    3132172.8           0  \n",
       "1                0                     210000.0           0  \n",
       "2                0                      50000.0           0  \n",
       "3                0                     210000.0           0  \n",
       "4                0                     210000.0           0  \n",
       "\n",
       "[5 rows x 29 columns]"
      ]
     },
     "execution_count": 273,
     "metadata": {},
     "output_type": "execute_result"
    }
   ],
   "source": [
    "encoded_market.head()"
   ]
  },
  {
   "cell_type": "code",
   "execution_count": 274,
   "metadata": {
    "colab": {
     "base_uri": "https://localhost:8080/",
     "height": 502
    },
    "colab_type": "code",
    "hidden": true,
    "id": "uLG90p0zdCyo",
    "outputId": "28d7085b-af5c-48e6-803c-c1fc0070504e"
   },
   "outputs": [
    {
     "data": {
      "text/plain": [
       "id                              object\n",
       "de_natureza_juridica             int32\n",
       "sg_uf                            int32\n",
       "natureza_juridica_macro          int32\n",
       "de_ramo                          int32\n",
       "setor                            int32\n",
       "idade_empresa_anos             float64\n",
       "fl_me                            int64\n",
       "fl_sa                            int64\n",
       "fl_epp                           int64\n",
       "fl_mei                           int64\n",
       "fl_ltda                          int64\n",
       "fl_st_especial                   int64\n",
       "fl_rm                            int64\n",
       "nm_divisao                       int32\n",
       "nm_segmento                      int32\n",
       "fl_spa                           int64\n",
       "fl_antt                          int64\n",
       "fl_veiculo                       int64\n",
       "sg_uf_matriz                     int32\n",
       "de_saude_tributaria              int32\n",
       "de_saude_rescencia               int32\n",
       "de_nivel_atividade               int32\n",
       "fl_simples_irregular             int64\n",
       "nm_meso_regiao                   int32\n",
       "nm_micro_regiao                  int32\n",
       "fl_passivel_iss                  int64\n",
       "vl_faturamento_estimado_aux    float64\n",
       "qt_filiais                       int64\n",
       "dtype: object"
      ]
     },
     "execution_count": 274,
     "metadata": {},
     "output_type": "execute_result"
    }
   ],
   "source": [
    "encoded_market.dtypes"
   ]
  },
  {
   "cell_type": "markdown",
   "metadata": {
    "heading_collapsed": true,
    "hidden": true
   },
   "source": [
    "### 3.3. StandardScaler"
   ]
  },
  {
   "cell_type": "code",
   "execution_count": 283,
   "metadata": {
    "colab": {},
    "colab_type": "code",
    "hidden": true,
    "id": "W3TQ6jdvVJlt"
   },
   "outputs": [],
   "source": [
    "from sklearn.preprocessing import StandardScaler\n",
    "\n",
    "numerical_cols = encoded_market.select_dtypes(include=['float64']).columns\n",
    "\n",
    "scaler = StandardScaler()\n",
    "scaler.fit(encoded_market[numerical_cols])\n",
    "encoded_market[numerical_cols] = scaler.transform(encoded_market[numerical_cols])"
   ]
  },
  {
   "cell_type": "code",
   "execution_count": 285,
   "metadata": {
    "colab": {
     "base_uri": "https://localhost:8080/",
     "height": 216
    },
    "colab_type": "code",
    "hidden": true,
    "id": "iAH5FXGHdfYM",
    "outputId": "66d0066e-55e3-4a5a-84fc-e06bd4f08027",
    "scrolled": true
   },
   "outputs": [
    {
     "data": {
      "text/html": [
       "<div>\n",
       "<style scoped>\n",
       "    .dataframe tbody tr th:only-of-type {\n",
       "        vertical-align: middle;\n",
       "    }\n",
       "\n",
       "    .dataframe tbody tr th {\n",
       "        vertical-align: top;\n",
       "    }\n",
       "\n",
       "    .dataframe thead th {\n",
       "        text-align: right;\n",
       "    }\n",
       "</style>\n",
       "<table border=\"1\" class=\"dataframe\">\n",
       "  <thead>\n",
       "    <tr style=\"text-align: right;\">\n",
       "      <th></th>\n",
       "      <th>id</th>\n",
       "      <th>de_natureza_juridica</th>\n",
       "      <th>sg_uf</th>\n",
       "      <th>natureza_juridica_macro</th>\n",
       "      <th>de_ramo</th>\n",
       "      <th>setor</th>\n",
       "      <th>idade_empresa_anos</th>\n",
       "      <th>fl_me</th>\n",
       "      <th>fl_sa</th>\n",
       "      <th>fl_epp</th>\n",
       "      <th>...</th>\n",
       "      <th>sg_uf_matriz</th>\n",
       "      <th>de_saude_tributaria</th>\n",
       "      <th>de_saude_rescencia</th>\n",
       "      <th>de_nivel_atividade</th>\n",
       "      <th>fl_simples_irregular</th>\n",
       "      <th>nm_meso_regiao</th>\n",
       "      <th>nm_micro_regiao</th>\n",
       "      <th>fl_passivel_iss</th>\n",
       "      <th>vl_faturamento_estimado_aux</th>\n",
       "      <th>qt_filiais</th>\n",
       "    </tr>\n",
       "  </thead>\n",
       "  <tbody>\n",
       "    <tr>\n",
       "      <th>0</th>\n",
       "      <td>a6984c3ae395090e3bee8ad63c3758b110de096d5d8195...</td>\n",
       "      <td>57</td>\n",
       "      <td>4</td>\n",
       "      <td>2</td>\n",
       "      <td>11</td>\n",
       "      <td>2</td>\n",
       "      <td>0.387076</td>\n",
       "      <td>0</td>\n",
       "      <td>0</td>\n",
       "      <td>0</td>\n",
       "      <td>...</td>\n",
       "      <td>19</td>\n",
       "      <td>4</td>\n",
       "      <td>0</td>\n",
       "      <td>0</td>\n",
       "      <td>0</td>\n",
       "      <td>6</td>\n",
       "      <td>48</td>\n",
       "      <td>0</td>\n",
       "      <td>0.068293</td>\n",
       "      <td>0</td>\n",
       "    </tr>\n",
       "    <tr>\n",
       "      <th>1</th>\n",
       "      <td>6178f41ade1365e44bc2c46654c2c8c0eaae27dcb476c4...</td>\n",
       "      <td>16</td>\n",
       "      <td>3</td>\n",
       "      <td>5</td>\n",
       "      <td>20</td>\n",
       "      <td>4</td>\n",
       "      <td>-0.983356</td>\n",
       "      <td>0</td>\n",
       "      <td>0</td>\n",
       "      <td>0</td>\n",
       "      <td>...</td>\n",
       "      <td>16</td>\n",
       "      <td>2</td>\n",
       "      <td>1</td>\n",
       "      <td>1</td>\n",
       "      <td>0</td>\n",
       "      <td>4</td>\n",
       "      <td>69</td>\n",
       "      <td>0</td>\n",
       "      <td>-0.018665</td>\n",
       "      <td>0</td>\n",
       "    </tr>\n",
       "    <tr>\n",
       "      <th>2</th>\n",
       "      <td>4a7e5069a397f12fdd7fd57111d6dc5d3ba558958efc02...</td>\n",
       "      <td>16</td>\n",
       "      <td>1</td>\n",
       "      <td>5</td>\n",
       "      <td>31</td>\n",
       "      <td>4</td>\n",
       "      <td>-0.389589</td>\n",
       "      <td>0</td>\n",
       "      <td>0</td>\n",
       "      <td>0</td>\n",
       "      <td>...</td>\n",
       "      <td>2</td>\n",
       "      <td>0</td>\n",
       "      <td>0</td>\n",
       "      <td>2</td>\n",
       "      <td>0</td>\n",
       "      <td>2</td>\n",
       "      <td>43</td>\n",
       "      <td>0</td>\n",
       "      <td>-0.023427</td>\n",
       "      <td>0</td>\n",
       "    </tr>\n",
       "    <tr>\n",
       "      <th>3</th>\n",
       "      <td>3348900fe63216a439d2e5238c79ddd46ede454df7b9d8...</td>\n",
       "      <td>16</td>\n",
       "      <td>1</td>\n",
       "      <td>5</td>\n",
       "      <td>24</td>\n",
       "      <td>4</td>\n",
       "      <td>-0.450843</td>\n",
       "      <td>0</td>\n",
       "      <td>0</td>\n",
       "      <td>0</td>\n",
       "      <td>...</td>\n",
       "      <td>2</td>\n",
       "      <td>0</td>\n",
       "      <td>0</td>\n",
       "      <td>2</td>\n",
       "      <td>0</td>\n",
       "      <td>2</td>\n",
       "      <td>43</td>\n",
       "      <td>0</td>\n",
       "      <td>-0.018665</td>\n",
       "      <td>0</td>\n",
       "    </tr>\n",
       "    <tr>\n",
       "      <th>4</th>\n",
       "      <td>1f9bcabc9d3173c1fe769899e4fac14b053037b953a1e4...</td>\n",
       "      <td>16</td>\n",
       "      <td>4</td>\n",
       "      <td>5</td>\n",
       "      <td>26</td>\n",
       "      <td>4</td>\n",
       "      <td>-0.800169</td>\n",
       "      <td>0</td>\n",
       "      <td>0</td>\n",
       "      <td>0</td>\n",
       "      <td>...</td>\n",
       "      <td>19</td>\n",
       "      <td>4</td>\n",
       "      <td>0</td>\n",
       "      <td>0</td>\n",
       "      <td>0</td>\n",
       "      <td>6</td>\n",
       "      <td>48</td>\n",
       "      <td>0</td>\n",
       "      <td>-0.018665</td>\n",
       "      <td>0</td>\n",
       "    </tr>\n",
       "  </tbody>\n",
       "</table>\n",
       "<p>5 rows × 29 columns</p>\n",
       "</div>"
      ],
      "text/plain": [
       "                                                  id  de_natureza_juridica  \\\n",
       "0  a6984c3ae395090e3bee8ad63c3758b110de096d5d8195...                    57   \n",
       "1  6178f41ade1365e44bc2c46654c2c8c0eaae27dcb476c4...                    16   \n",
       "2  4a7e5069a397f12fdd7fd57111d6dc5d3ba558958efc02...                    16   \n",
       "3  3348900fe63216a439d2e5238c79ddd46ede454df7b9d8...                    16   \n",
       "4  1f9bcabc9d3173c1fe769899e4fac14b053037b953a1e4...                    16   \n",
       "\n",
       "   sg_uf  natureza_juridica_macro  de_ramo  setor  idade_empresa_anos  fl_me  \\\n",
       "0      4                        2       11      2            0.387076      0   \n",
       "1      3                        5       20      4           -0.983356      0   \n",
       "2      1                        5       31      4           -0.389589      0   \n",
       "3      1                        5       24      4           -0.450843      0   \n",
       "4      4                        5       26      4           -0.800169      0   \n",
       "\n",
       "   fl_sa  fl_epp  ...  sg_uf_matriz  de_saude_tributaria  de_saude_rescencia  \\\n",
       "0      0       0  ...            19                    4                   0   \n",
       "1      0       0  ...            16                    2                   1   \n",
       "2      0       0  ...             2                    0                   0   \n",
       "3      0       0  ...             2                    0                   0   \n",
       "4      0       0  ...            19                    4                   0   \n",
       "\n",
       "   de_nivel_atividade  fl_simples_irregular  nm_meso_regiao  nm_micro_regiao  \\\n",
       "0                   0                     0               6               48   \n",
       "1                   1                     0               4               69   \n",
       "2                   2                     0               2               43   \n",
       "3                   2                     0               2               43   \n",
       "4                   0                     0               6               48   \n",
       "\n",
       "   fl_passivel_iss  vl_faturamento_estimado_aux  qt_filiais  \n",
       "0                0                     0.068293           0  \n",
       "1                0                    -0.018665           0  \n",
       "2                0                    -0.023427           0  \n",
       "3                0                    -0.018665           0  \n",
       "4                0                    -0.018665           0  \n",
       "\n",
       "[5 rows x 29 columns]"
      ]
     },
     "execution_count": 285,
     "metadata": {},
     "output_type": "execute_result"
    }
   ],
   "source": [
    "encoded_market.head()"
   ]
  },
  {
   "cell_type": "markdown",
   "metadata": {
    "heading_collapsed": true
   },
   "source": [
    "## 4.0. Extração de variáveis"
   ]
  },
  {
   "cell_type": "markdown",
   "metadata": {
    "hidden": true
   },
   "source": [
    "Como a grande maioria de nossas features é categórica, usaremos o MCA (parecido com o PCA, mas mais específico para variáveis categóricas)."
   ]
  },
  {
   "cell_type": "code",
   "execution_count": 278,
   "metadata": {
    "colab": {
     "base_uri": "https://localhost:8080/",
     "height": 404
    },
    "colab_type": "code",
    "hidden": true,
    "id": "h3o7LhXTX712",
    "outputId": "1954e497-67e6-4a99-c7d7-d95a8d9fa54a"
   },
   "outputs": [
    {
     "data": {
      "text/html": [
       "<div>\n",
       "<style scoped>\n",
       "    .dataframe tbody tr th:only-of-type {\n",
       "        vertical-align: middle;\n",
       "    }\n",
       "\n",
       "    .dataframe tbody tr th {\n",
       "        vertical-align: top;\n",
       "    }\n",
       "\n",
       "    .dataframe thead th {\n",
       "        text-align: right;\n",
       "    }\n",
       "</style>\n",
       "<table border=\"1\" class=\"dataframe\">\n",
       "  <thead>\n",
       "    <tr style=\"text-align: right;\">\n",
       "      <th></th>\n",
       "      <th>0</th>\n",
       "      <th>1</th>\n",
       "    </tr>\n",
       "  </thead>\n",
       "  <tbody>\n",
       "    <tr>\n",
       "      <th>0</th>\n",
       "      <td>-0.074034</td>\n",
       "      <td>0.380295</td>\n",
       "    </tr>\n",
       "    <tr>\n",
       "      <th>1</th>\n",
       "      <td>0.611583</td>\n",
       "      <td>0.160659</td>\n",
       "    </tr>\n",
       "    <tr>\n",
       "      <th>2</th>\n",
       "      <td>-0.136054</td>\n",
       "      <td>-0.426209</td>\n",
       "    </tr>\n",
       "    <tr>\n",
       "      <th>3</th>\n",
       "      <td>-0.092588</td>\n",
       "      <td>-0.370683</td>\n",
       "    </tr>\n",
       "    <tr>\n",
       "      <th>4</th>\n",
       "      <td>-0.045096</td>\n",
       "      <td>-0.312638</td>\n",
       "    </tr>\n",
       "    <tr>\n",
       "      <th>...</th>\n",
       "      <td>...</td>\n",
       "      <td>...</td>\n",
       "    </tr>\n",
       "    <tr>\n",
       "      <th>462290</th>\n",
       "      <td>-0.392001</td>\n",
       "      <td>0.060766</td>\n",
       "    </tr>\n",
       "    <tr>\n",
       "      <th>462291</th>\n",
       "      <td>0.138645</td>\n",
       "      <td>-0.243006</td>\n",
       "    </tr>\n",
       "    <tr>\n",
       "      <th>462293</th>\n",
       "      <td>-0.180466</td>\n",
       "      <td>-0.055392</td>\n",
       "    </tr>\n",
       "    <tr>\n",
       "      <th>462294</th>\n",
       "      <td>0.109384</td>\n",
       "      <td>-0.247085</td>\n",
       "    </tr>\n",
       "    <tr>\n",
       "      <th>462295</th>\n",
       "      <td>-0.185270</td>\n",
       "      <td>-0.562070</td>\n",
       "    </tr>\n",
       "  </tbody>\n",
       "</table>\n",
       "<p>364549 rows × 2 columns</p>\n",
       "</div>"
      ],
      "text/plain": [
       "               0         1\n",
       "0      -0.074034  0.380295\n",
       "1       0.611583  0.160659\n",
       "2      -0.136054 -0.426209\n",
       "3      -0.092588 -0.370683\n",
       "4      -0.045096 -0.312638\n",
       "...          ...       ...\n",
       "462290 -0.392001  0.060766\n",
       "462291  0.138645 -0.243006\n",
       "462293 -0.180466 -0.055392\n",
       "462294  0.109384 -0.247085\n",
       "462295 -0.185270 -0.562070\n",
       "\n",
       "[364549 rows x 2 columns]"
      ]
     },
     "execution_count": 278,
     "metadata": {},
     "output_type": "execute_result"
    }
   ],
   "source": [
    "mca = MCA()\n",
    "\n",
    "mca_market = mca.fit(encoded_market[cat_cols])\n",
    "mca_market = mca.transform(encoded_market[cat_cols])\n",
    "\n",
    "mca_market"
   ]
  },
  {
   "cell_type": "markdown",
   "metadata": {
    "hidden": true
   },
   "source": [
    "Agora, unimos os dados gerados pelo MCA e descartamos as variáveis categóricas."
   ]
  },
  {
   "cell_type": "code",
   "execution_count": 286,
   "metadata": {
    "colab": {},
    "colab_type": "code",
    "hidden": true,
    "id": "ZF5PZobedUi0"
   },
   "outputs": [],
   "source": [
    "market_transformed = encoded_market.join(mca_market)"
   ]
  },
  {
   "cell_type": "code",
   "execution_count": 287,
   "metadata": {
    "colab": {},
    "colab_type": "code",
    "hidden": true,
    "id": "b93wuNkEdjo1"
   },
   "outputs": [],
   "source": [
    "market_transformed = market_transformed.drop(cat_cols, axis=1)"
   ]
  },
  {
   "cell_type": "code",
   "execution_count": 288,
   "metadata": {
    "colab": {
     "base_uri": "https://localhost:8080/",
     "height": 33
    },
    "colab_type": "code",
    "hidden": true,
    "id": "2wJwmGt3dvLw",
    "outputId": "6dba09d4-dc7a-485d-f789-7e267aa3317b"
   },
   "outputs": [
    {
     "data": {
      "text/plain": [
       "(364549, 18)"
      ]
     },
     "execution_count": 288,
     "metadata": {},
     "output_type": "execute_result"
    }
   ],
   "source": [
    "market_transformed.shape"
   ]
  },
  {
   "cell_type": "code",
   "execution_count": 289,
   "metadata": {
    "hidden": true
   },
   "outputs": [
    {
     "data": {
      "text/html": [
       "<div>\n",
       "<style scoped>\n",
       "    .dataframe tbody tr th:only-of-type {\n",
       "        vertical-align: middle;\n",
       "    }\n",
       "\n",
       "    .dataframe tbody tr th {\n",
       "        vertical-align: top;\n",
       "    }\n",
       "\n",
       "    .dataframe thead th {\n",
       "        text-align: right;\n",
       "    }\n",
       "</style>\n",
       "<table border=\"1\" class=\"dataframe\">\n",
       "  <thead>\n",
       "    <tr style=\"text-align: right;\">\n",
       "      <th></th>\n",
       "      <th>id</th>\n",
       "      <th>idade_empresa_anos</th>\n",
       "      <th>fl_me</th>\n",
       "      <th>fl_sa</th>\n",
       "      <th>fl_epp</th>\n",
       "      <th>fl_mei</th>\n",
       "      <th>fl_ltda</th>\n",
       "      <th>fl_st_especial</th>\n",
       "      <th>fl_rm</th>\n",
       "      <th>fl_spa</th>\n",
       "      <th>fl_antt</th>\n",
       "      <th>fl_veiculo</th>\n",
       "      <th>fl_simples_irregular</th>\n",
       "      <th>fl_passivel_iss</th>\n",
       "      <th>vl_faturamento_estimado_aux</th>\n",
       "      <th>qt_filiais</th>\n",
       "      <th>0</th>\n",
       "      <th>1</th>\n",
       "    </tr>\n",
       "  </thead>\n",
       "  <tbody>\n",
       "    <tr>\n",
       "      <th>0</th>\n",
       "      <td>a6984c3ae395090e3bee8ad63c3758b110de096d5d8195...</td>\n",
       "      <td>0.387076</td>\n",
       "      <td>0</td>\n",
       "      <td>0</td>\n",
       "      <td>0</td>\n",
       "      <td>0</td>\n",
       "      <td>0</td>\n",
       "      <td>0</td>\n",
       "      <td>0</td>\n",
       "      <td>0</td>\n",
       "      <td>0</td>\n",
       "      <td>0</td>\n",
       "      <td>0</td>\n",
       "      <td>0</td>\n",
       "      <td>0.068293</td>\n",
       "      <td>0</td>\n",
       "      <td>-0.074034</td>\n",
       "      <td>0.380295</td>\n",
       "    </tr>\n",
       "    <tr>\n",
       "      <th>1</th>\n",
       "      <td>6178f41ade1365e44bc2c46654c2c8c0eaae27dcb476c4...</td>\n",
       "      <td>-0.983356</td>\n",
       "      <td>0</td>\n",
       "      <td>0</td>\n",
       "      <td>0</td>\n",
       "      <td>1</td>\n",
       "      <td>0</td>\n",
       "      <td>0</td>\n",
       "      <td>0</td>\n",
       "      <td>0</td>\n",
       "      <td>0</td>\n",
       "      <td>0</td>\n",
       "      <td>0</td>\n",
       "      <td>0</td>\n",
       "      <td>-0.018665</td>\n",
       "      <td>0</td>\n",
       "      <td>0.611583</td>\n",
       "      <td>0.160659</td>\n",
       "    </tr>\n",
       "    <tr>\n",
       "      <th>2</th>\n",
       "      <td>4a7e5069a397f12fdd7fd57111d6dc5d3ba558958efc02...</td>\n",
       "      <td>-0.389589</td>\n",
       "      <td>0</td>\n",
       "      <td>0</td>\n",
       "      <td>0</td>\n",
       "      <td>1</td>\n",
       "      <td>0</td>\n",
       "      <td>0</td>\n",
       "      <td>0</td>\n",
       "      <td>0</td>\n",
       "      <td>0</td>\n",
       "      <td>0</td>\n",
       "      <td>0</td>\n",
       "      <td>0</td>\n",
       "      <td>-0.023427</td>\n",
       "      <td>0</td>\n",
       "      <td>-0.136054</td>\n",
       "      <td>-0.426209</td>\n",
       "    </tr>\n",
       "    <tr>\n",
       "      <th>3</th>\n",
       "      <td>3348900fe63216a439d2e5238c79ddd46ede454df7b9d8...</td>\n",
       "      <td>-0.450843</td>\n",
       "      <td>0</td>\n",
       "      <td>0</td>\n",
       "      <td>0</td>\n",
       "      <td>0</td>\n",
       "      <td>0</td>\n",
       "      <td>0</td>\n",
       "      <td>0</td>\n",
       "      <td>0</td>\n",
       "      <td>0</td>\n",
       "      <td>0</td>\n",
       "      <td>0</td>\n",
       "      <td>0</td>\n",
       "      <td>-0.018665</td>\n",
       "      <td>0</td>\n",
       "      <td>-0.092588</td>\n",
       "      <td>-0.370683</td>\n",
       "    </tr>\n",
       "    <tr>\n",
       "      <th>4</th>\n",
       "      <td>1f9bcabc9d3173c1fe769899e4fac14b053037b953a1e4...</td>\n",
       "      <td>-0.800169</td>\n",
       "      <td>0</td>\n",
       "      <td>0</td>\n",
       "      <td>0</td>\n",
       "      <td>0</td>\n",
       "      <td>0</td>\n",
       "      <td>0</td>\n",
       "      <td>0</td>\n",
       "      <td>0</td>\n",
       "      <td>0</td>\n",
       "      <td>0</td>\n",
       "      <td>0</td>\n",
       "      <td>0</td>\n",
       "      <td>-0.018665</td>\n",
       "      <td>0</td>\n",
       "      <td>-0.045096</td>\n",
       "      <td>-0.312638</td>\n",
       "    </tr>\n",
       "  </tbody>\n",
       "</table>\n",
       "</div>"
      ],
      "text/plain": [
       "                                                  id  idade_empresa_anos  \\\n",
       "0  a6984c3ae395090e3bee8ad63c3758b110de096d5d8195...            0.387076   \n",
       "1  6178f41ade1365e44bc2c46654c2c8c0eaae27dcb476c4...           -0.983356   \n",
       "2  4a7e5069a397f12fdd7fd57111d6dc5d3ba558958efc02...           -0.389589   \n",
       "3  3348900fe63216a439d2e5238c79ddd46ede454df7b9d8...           -0.450843   \n",
       "4  1f9bcabc9d3173c1fe769899e4fac14b053037b953a1e4...           -0.800169   \n",
       "\n",
       "   fl_me  fl_sa  fl_epp  fl_mei  fl_ltda  fl_st_especial  fl_rm  fl_spa  \\\n",
       "0      0      0       0       0        0               0      0       0   \n",
       "1      0      0       0       1        0               0      0       0   \n",
       "2      0      0       0       1        0               0      0       0   \n",
       "3      0      0       0       0        0               0      0       0   \n",
       "4      0      0       0       0        0               0      0       0   \n",
       "\n",
       "   fl_antt  fl_veiculo  fl_simples_irregular  fl_passivel_iss  \\\n",
       "0        0           0                     0                0   \n",
       "1        0           0                     0                0   \n",
       "2        0           0                     0                0   \n",
       "3        0           0                     0                0   \n",
       "4        0           0                     0                0   \n",
       "\n",
       "   vl_faturamento_estimado_aux  qt_filiais         0         1  \n",
       "0                     0.068293           0 -0.074034  0.380295  \n",
       "1                    -0.018665           0  0.611583  0.160659  \n",
       "2                    -0.023427           0 -0.136054 -0.426209  \n",
       "3                    -0.018665           0 -0.092588 -0.370683  \n",
       "4                    -0.018665           0 -0.045096 -0.312638  "
      ]
     },
     "execution_count": 289,
     "metadata": {},
     "output_type": "execute_result"
    }
   ],
   "source": [
    "market_transformed.head()"
   ]
  },
  {
   "cell_type": "markdown",
   "metadata": {
    "heading_collapsed": true
   },
   "source": [
    "## 5.0. Corrigindo portfolios"
   ]
  },
  {
   "cell_type": "markdown",
   "metadata": {
    "colab_type": "text",
    "heading_collapsed": true,
    "hidden": true,
    "id": "Wi_5HdDTVJl5"
   },
   "source": [
    "### Portfolio 1"
   ]
  },
  {
   "cell_type": "code",
   "execution_count": 290,
   "metadata": {
    "colab": {
     "base_uri": "https://localhost:8080/",
     "height": 580
    },
    "colab_type": "code",
    "hidden": true,
    "id": "N0AsGYtHVJl5",
    "outputId": "bfb0a62c-988c-4b2c-d70e-b70bdb16b03b"
   },
   "outputs": [
    {
     "data": {
      "text/html": [
       "<div>\n",
       "<style scoped>\n",
       "    .dataframe tbody tr th:only-of-type {\n",
       "        vertical-align: middle;\n",
       "    }\n",
       "\n",
       "    .dataframe tbody tr th {\n",
       "        vertical-align: top;\n",
       "    }\n",
       "\n",
       "    .dataframe thead th {\n",
       "        text-align: right;\n",
       "    }\n",
       "</style>\n",
       "<table border=\"1\" class=\"dataframe\">\n",
       "  <thead>\n",
       "    <tr style=\"text-align: right;\">\n",
       "      <th></th>\n",
       "      <th>id</th>\n",
       "      <th>fl_matriz</th>\n",
       "      <th>de_natureza_juridica</th>\n",
       "      <th>sg_uf</th>\n",
       "      <th>natureza_juridica_macro</th>\n",
       "      <th>de_ramo</th>\n",
       "      <th>setor</th>\n",
       "      <th>idade_empresa_anos</th>\n",
       "      <th>idade_emp_cat</th>\n",
       "      <th>fl_me</th>\n",
       "      <th>...</th>\n",
       "      <th>media_meses_servicos</th>\n",
       "      <th>max_meses_servicos</th>\n",
       "      <th>min_meses_servicos</th>\n",
       "      <th>qt_funcionarios</th>\n",
       "      <th>qt_funcionarios_12meses</th>\n",
       "      <th>qt_funcionarios_24meses</th>\n",
       "      <th>tx_crescimento_12meses</th>\n",
       "      <th>tx_crescimento_24meses</th>\n",
       "      <th>tx_rotatividade</th>\n",
       "      <th>qt_filiais</th>\n",
       "    </tr>\n",
       "  </thead>\n",
       "  <tbody>\n",
       "    <tr>\n",
       "      <th>0</th>\n",
       "      <td>dabe79bec87c88ae04e869bf6bd321ee5e1893cecf6625...</td>\n",
       "      <td>True</td>\n",
       "      <td>EMPRESARIO INDIVIDUAL</td>\n",
       "      <td>PI</td>\n",
       "      <td>OUTROS</td>\n",
       "      <td>COMERCIO VAREJISTA</td>\n",
       "      <td>COMERCIO</td>\n",
       "      <td>0.646575</td>\n",
       "      <td>&lt;= 1</td>\n",
       "      <td>False</td>\n",
       "      <td>...</td>\n",
       "      <td>NaN</td>\n",
       "      <td>NaN</td>\n",
       "      <td>NaN</td>\n",
       "      <td>NaN</td>\n",
       "      <td>NaN</td>\n",
       "      <td>NaN</td>\n",
       "      <td>NaN</td>\n",
       "      <td>NaN</td>\n",
       "      <td>NaN</td>\n",
       "      <td>0</td>\n",
       "    </tr>\n",
       "    <tr>\n",
       "      <th>1</th>\n",
       "      <td>32e5f4e10932153a7ba869cb0386e7e02d49d2461046b8...</td>\n",
       "      <td>False</td>\n",
       "      <td>EMPRESARIO INDIVIDUAL</td>\n",
       "      <td>MA</td>\n",
       "      <td>OUTROS</td>\n",
       "      <td>COMERCIO VAREJISTA</td>\n",
       "      <td>COMERCIO</td>\n",
       "      <td>6.586301</td>\n",
       "      <td>5 a 10</td>\n",
       "      <td>False</td>\n",
       "      <td>...</td>\n",
       "      <td>NaN</td>\n",
       "      <td>NaN</td>\n",
       "      <td>NaN</td>\n",
       "      <td>0.0</td>\n",
       "      <td>0.0</td>\n",
       "      <td>2.0</td>\n",
       "      <td>NaN</td>\n",
       "      <td>-100.0</td>\n",
       "      <td>0.0</td>\n",
       "      <td>4</td>\n",
       "    </tr>\n",
       "    <tr>\n",
       "      <th>2</th>\n",
       "      <td>a95d6f30bba445bd3d6b0c5b36f865b38ec01d17336090...</td>\n",
       "      <td>True</td>\n",
       "      <td>EMPRESARIO INDIVIDUAL</td>\n",
       "      <td>MA</td>\n",
       "      <td>OUTROS</td>\n",
       "      <td>COMERCIO VAREJISTA</td>\n",
       "      <td>COMERCIO</td>\n",
       "      <td>8.010959</td>\n",
       "      <td>5 a 10</td>\n",
       "      <td>False</td>\n",
       "      <td>...</td>\n",
       "      <td>NaN</td>\n",
       "      <td>NaN</td>\n",
       "      <td>NaN</td>\n",
       "      <td>NaN</td>\n",
       "      <td>NaN</td>\n",
       "      <td>NaN</td>\n",
       "      <td>NaN</td>\n",
       "      <td>NaN</td>\n",
       "      <td>NaN</td>\n",
       "      <td>0</td>\n",
       "    </tr>\n",
       "    <tr>\n",
       "      <th>3</th>\n",
       "      <td>6cb309685cea0b6d2988818792ec2e6fcb2bd02e0afa9e...</td>\n",
       "      <td>True</td>\n",
       "      <td>EMPRESARIO INDIVIDUAL</td>\n",
       "      <td>RN</td>\n",
       "      <td>OUTROS</td>\n",
       "      <td>COMERCIO VAREJISTA</td>\n",
       "      <td>COMERCIO</td>\n",
       "      <td>20.863014</td>\n",
       "      <td>&gt; 20</td>\n",
       "      <td>False</td>\n",
       "      <td>...</td>\n",
       "      <td>NaN</td>\n",
       "      <td>NaN</td>\n",
       "      <td>NaN</td>\n",
       "      <td>NaN</td>\n",
       "      <td>NaN</td>\n",
       "      <td>NaN</td>\n",
       "      <td>NaN</td>\n",
       "      <td>NaN</td>\n",
       "      <td>NaN</td>\n",
       "      <td>0</td>\n",
       "    </tr>\n",
       "    <tr>\n",
       "      <th>4</th>\n",
       "      <td>f72aa7fa6787b0a5a1c88885b6120850df8ee0f71adc25...</td>\n",
       "      <td>True</td>\n",
       "      <td>SOCIEDADE EMPRESARIA LIMITADA</td>\n",
       "      <td>RN</td>\n",
       "      <td>ENTIDADES EMPRESARIAIS</td>\n",
       "      <td>COMERCIO VAREJISTA</td>\n",
       "      <td>COMERCIO</td>\n",
       "      <td>18.726027</td>\n",
       "      <td>15 a 20</td>\n",
       "      <td>False</td>\n",
       "      <td>...</td>\n",
       "      <td>39.454762</td>\n",
       "      <td>91.2</td>\n",
       "      <td>19.333333</td>\n",
       "      <td>14.0</td>\n",
       "      <td>15.0</td>\n",
       "      <td>25.0</td>\n",
       "      <td>-6.666667</td>\n",
       "      <td>-44.0</td>\n",
       "      <td>0.0</td>\n",
       "      <td>3</td>\n",
       "    </tr>\n",
       "  </tbody>\n",
       "</table>\n",
       "<p>5 rows × 181 columns</p>\n",
       "</div>"
      ],
      "text/plain": [
       "                                                  id  fl_matriz  \\\n",
       "0  dabe79bec87c88ae04e869bf6bd321ee5e1893cecf6625...       True   \n",
       "1  32e5f4e10932153a7ba869cb0386e7e02d49d2461046b8...      False   \n",
       "2  a95d6f30bba445bd3d6b0c5b36f865b38ec01d17336090...       True   \n",
       "3  6cb309685cea0b6d2988818792ec2e6fcb2bd02e0afa9e...       True   \n",
       "4  f72aa7fa6787b0a5a1c88885b6120850df8ee0f71adc25...       True   \n",
       "\n",
       "            de_natureza_juridica sg_uf natureza_juridica_macro  \\\n",
       "0          EMPRESARIO INDIVIDUAL    PI                  OUTROS   \n",
       "1          EMPRESARIO INDIVIDUAL    MA                  OUTROS   \n",
       "2          EMPRESARIO INDIVIDUAL    MA                  OUTROS   \n",
       "3          EMPRESARIO INDIVIDUAL    RN                  OUTROS   \n",
       "4  SOCIEDADE EMPRESARIA LIMITADA    RN  ENTIDADES EMPRESARIAIS   \n",
       "\n",
       "              de_ramo     setor  idade_empresa_anos idade_emp_cat  fl_me  ...  \\\n",
       "0  COMERCIO VAREJISTA  COMERCIO            0.646575          <= 1  False  ...   \n",
       "1  COMERCIO VAREJISTA  COMERCIO            6.586301        5 a 10  False  ...   \n",
       "2  COMERCIO VAREJISTA  COMERCIO            8.010959        5 a 10  False  ...   \n",
       "3  COMERCIO VAREJISTA  COMERCIO           20.863014          > 20  False  ...   \n",
       "4  COMERCIO VAREJISTA  COMERCIO           18.726027       15 a 20  False  ...   \n",
       "\n",
       "   media_meses_servicos  max_meses_servicos  min_meses_servicos  \\\n",
       "0                   NaN                 NaN                 NaN   \n",
       "1                   NaN                 NaN                 NaN   \n",
       "2                   NaN                 NaN                 NaN   \n",
       "3                   NaN                 NaN                 NaN   \n",
       "4             39.454762                91.2           19.333333   \n",
       "\n",
       "   qt_funcionarios qt_funcionarios_12meses  qt_funcionarios_24meses  \\\n",
       "0              NaN                     NaN                      NaN   \n",
       "1              0.0                     0.0                      2.0   \n",
       "2              NaN                     NaN                      NaN   \n",
       "3              NaN                     NaN                      NaN   \n",
       "4             14.0                    15.0                     25.0   \n",
       "\n",
       "   tx_crescimento_12meses  tx_crescimento_24meses tx_rotatividade qt_filiais  \n",
       "0                     NaN                     NaN             NaN          0  \n",
       "1                     NaN                  -100.0             0.0          4  \n",
       "2                     NaN                     NaN             NaN          0  \n",
       "3                     NaN                     NaN             NaN          0  \n",
       "4               -6.666667                   -44.0             0.0          3  \n",
       "\n",
       "[5 rows x 181 columns]"
      ]
     },
     "execution_count": 290,
     "metadata": {},
     "output_type": "execute_result"
    }
   ],
   "source": [
    "portfolio_1.head()"
   ]
  },
  {
   "cell_type": "code",
   "execution_count": 291,
   "metadata": {
    "colab": {},
    "colab_type": "code",
    "hidden": true,
    "id": "R-GpYw1Jc1bU"
   },
   "outputs": [],
   "source": [
    "portfolio_1 = portfolio_1[['id']]"
   ]
  },
  {
   "cell_type": "code",
   "execution_count": 292,
   "metadata": {
    "colab": {},
    "colab_type": "code",
    "hidden": true,
    "id": "cSGehWzxVJl8"
   },
   "outputs": [],
   "source": [
    "portfolio_1 = pd.merge(portfolio_1, market_transformed, on='id',  how='left')"
   ]
  },
  {
   "cell_type": "code",
   "execution_count": 293,
   "metadata": {
    "colab": {
     "base_uri": "https://localhost:8080/",
     "height": 33
    },
    "colab_type": "code",
    "hidden": true,
    "id": "up1igYlabXpq",
    "outputId": "dde5acd3-6671-41c2-94a9-233fb4fddbcd"
   },
   "outputs": [
    {
     "data": {
      "text/plain": [
       "(555, 18)"
      ]
     },
     "execution_count": 293,
     "metadata": {},
     "output_type": "execute_result"
    }
   ],
   "source": [
    "portfolio_1.shape"
   ]
  },
  {
   "cell_type": "code",
   "execution_count": 296,
   "metadata": {
    "hidden": true,
    "scrolled": true
   },
   "outputs": [
    {
     "data": {
      "text/html": [
       "<div>\n",
       "<style scoped>\n",
       "    .dataframe tbody tr th:only-of-type {\n",
       "        vertical-align: middle;\n",
       "    }\n",
       "\n",
       "    .dataframe tbody tr th {\n",
       "        vertical-align: top;\n",
       "    }\n",
       "\n",
       "    .dataframe thead th {\n",
       "        text-align: right;\n",
       "    }\n",
       "</style>\n",
       "<table border=\"1\" class=\"dataframe\">\n",
       "  <thead>\n",
       "    <tr style=\"text-align: right;\">\n",
       "      <th></th>\n",
       "      <th>id</th>\n",
       "      <th>idade_empresa_anos</th>\n",
       "      <th>fl_me</th>\n",
       "      <th>fl_sa</th>\n",
       "      <th>fl_epp</th>\n",
       "      <th>fl_mei</th>\n",
       "      <th>fl_ltda</th>\n",
       "      <th>fl_st_especial</th>\n",
       "      <th>fl_rm</th>\n",
       "      <th>fl_spa</th>\n",
       "      <th>fl_antt</th>\n",
       "      <th>fl_veiculo</th>\n",
       "      <th>fl_simples_irregular</th>\n",
       "      <th>fl_passivel_iss</th>\n",
       "      <th>vl_faturamento_estimado_aux</th>\n",
       "      <th>qt_filiais</th>\n",
       "      <th>0</th>\n",
       "      <th>1</th>\n",
       "    </tr>\n",
       "  </thead>\n",
       "  <tbody>\n",
       "    <tr>\n",
       "      <th>1</th>\n",
       "      <td>32e5f4e10932153a7ba869cb0386e7e02d49d2461046b8...</td>\n",
       "      <td>-0.443042</td>\n",
       "      <td>0.0</td>\n",
       "      <td>0.0</td>\n",
       "      <td>0.0</td>\n",
       "      <td>0.0</td>\n",
       "      <td>0.0</td>\n",
       "      <td>0.0</td>\n",
       "      <td>0.0</td>\n",
       "      <td>0.0</td>\n",
       "      <td>0.0</td>\n",
       "      <td>0.0</td>\n",
       "      <td>0.0</td>\n",
       "      <td>0.0</td>\n",
       "      <td>-0.018665</td>\n",
       "      <td>4.0</td>\n",
       "      <td>0.187696</td>\n",
       "      <td>-0.017300</td>\n",
       "    </tr>\n",
       "    <tr>\n",
       "      <th>2</th>\n",
       "      <td>a95d6f30bba445bd3d6b0c5b36f865b38ec01d17336090...</td>\n",
       "      <td>-0.292795</td>\n",
       "      <td>0.0</td>\n",
       "      <td>0.0</td>\n",
       "      <td>0.0</td>\n",
       "      <td>1.0</td>\n",
       "      <td>0.0</td>\n",
       "      <td>0.0</td>\n",
       "      <td>0.0</td>\n",
       "      <td>0.0</td>\n",
       "      <td>0.0</td>\n",
       "      <td>0.0</td>\n",
       "      <td>0.0</td>\n",
       "      <td>0.0</td>\n",
       "      <td>-0.023427</td>\n",
       "      <td>0.0</td>\n",
       "      <td>-0.528122</td>\n",
       "      <td>-0.173585</td>\n",
       "    </tr>\n",
       "    <tr>\n",
       "      <th>3</th>\n",
       "      <td>6cb309685cea0b6d2988818792ec2e6fcb2bd02e0afa9e...</td>\n",
       "      <td>1.062612</td>\n",
       "      <td>0.0</td>\n",
       "      <td>0.0</td>\n",
       "      <td>0.0</td>\n",
       "      <td>0.0</td>\n",
       "      <td>0.0</td>\n",
       "      <td>0.0</td>\n",
       "      <td>0.0</td>\n",
       "      <td>0.0</td>\n",
       "      <td>0.0</td>\n",
       "      <td>0.0</td>\n",
       "      <td>0.0</td>\n",
       "      <td>0.0</td>\n",
       "      <td>-0.023427</td>\n",
       "      <td>0.0</td>\n",
       "      <td>0.374063</td>\n",
       "      <td>0.028456</td>\n",
       "    </tr>\n",
       "    <tr>\n",
       "      <th>4</th>\n",
       "      <td>f72aa7fa6787b0a5a1c88885b6120850df8ee0f71adc25...</td>\n",
       "      <td>0.837241</td>\n",
       "      <td>0.0</td>\n",
       "      <td>0.0</td>\n",
       "      <td>0.0</td>\n",
       "      <td>0.0</td>\n",
       "      <td>0.0</td>\n",
       "      <td>0.0</td>\n",
       "      <td>0.0</td>\n",
       "      <td>0.0</td>\n",
       "      <td>0.0</td>\n",
       "      <td>0.0</td>\n",
       "      <td>0.0</td>\n",
       "      <td>0.0</td>\n",
       "      <td>0.065227</td>\n",
       "      <td>3.0</td>\n",
       "      <td>-0.067074</td>\n",
       "      <td>0.442439</td>\n",
       "    </tr>\n",
       "    <tr>\n",
       "      <th>5</th>\n",
       "      <td>f7e2894dce5dbb49662da50c55bcb96cdc3d34188abfe8...</td>\n",
       "      <td>-0.479737</td>\n",
       "      <td>0.0</td>\n",
       "      <td>0.0</td>\n",
       "      <td>0.0</td>\n",
       "      <td>0.0</td>\n",
       "      <td>0.0</td>\n",
       "      <td>0.0</td>\n",
       "      <td>0.0</td>\n",
       "      <td>0.0</td>\n",
       "      <td>0.0</td>\n",
       "      <td>0.0</td>\n",
       "      <td>0.0</td>\n",
       "      <td>0.0</td>\n",
       "      <td>-0.018665</td>\n",
       "      <td>0.0</td>\n",
       "      <td>-0.033695</td>\n",
       "      <td>-0.064701</td>\n",
       "    </tr>\n",
       "  </tbody>\n",
       "</table>\n",
       "</div>"
      ],
      "text/plain": [
       "                                                  id  idade_empresa_anos  \\\n",
       "1  32e5f4e10932153a7ba869cb0386e7e02d49d2461046b8...           -0.443042   \n",
       "2  a95d6f30bba445bd3d6b0c5b36f865b38ec01d17336090...           -0.292795   \n",
       "3  6cb309685cea0b6d2988818792ec2e6fcb2bd02e0afa9e...            1.062612   \n",
       "4  f72aa7fa6787b0a5a1c88885b6120850df8ee0f71adc25...            0.837241   \n",
       "5  f7e2894dce5dbb49662da50c55bcb96cdc3d34188abfe8...           -0.479737   \n",
       "\n",
       "   fl_me  fl_sa  fl_epp  fl_mei  fl_ltda  fl_st_especial  fl_rm  fl_spa  \\\n",
       "1    0.0    0.0     0.0     0.0      0.0             0.0    0.0     0.0   \n",
       "2    0.0    0.0     0.0     1.0      0.0             0.0    0.0     0.0   \n",
       "3    0.0    0.0     0.0     0.0      0.0             0.0    0.0     0.0   \n",
       "4    0.0    0.0     0.0     0.0      0.0             0.0    0.0     0.0   \n",
       "5    0.0    0.0     0.0     0.0      0.0             0.0    0.0     0.0   \n",
       "\n",
       "   fl_antt  fl_veiculo  fl_simples_irregular  fl_passivel_iss  \\\n",
       "1      0.0         0.0                   0.0              0.0   \n",
       "2      0.0         0.0                   0.0              0.0   \n",
       "3      0.0         0.0                   0.0              0.0   \n",
       "4      0.0         0.0                   0.0              0.0   \n",
       "5      0.0         0.0                   0.0              0.0   \n",
       "\n",
       "   vl_faturamento_estimado_aux  qt_filiais         0         1  \n",
       "1                    -0.018665         4.0  0.187696 -0.017300  \n",
       "2                    -0.023427         0.0 -0.528122 -0.173585  \n",
       "3                    -0.023427         0.0  0.374063  0.028456  \n",
       "4                     0.065227         3.0 -0.067074  0.442439  \n",
       "5                    -0.018665         0.0 -0.033695 -0.064701  "
      ]
     },
     "execution_count": 296,
     "metadata": {},
     "output_type": "execute_result"
    }
   ],
   "source": [
    "portfolio_1.head()"
   ]
  },
  {
   "cell_type": "code",
   "execution_count": 294,
   "metadata": {
    "colab": {
     "base_uri": "https://localhost:8080/",
     "height": 318
    },
    "colab_type": "code",
    "hidden": true,
    "id": "AQI-5Ah0dgeH",
    "outputId": "6a64617e-b3b0-45d0-c67d-07d9a3ff1830"
   },
   "outputs": [
    {
     "data": {
      "text/plain": [
       "id                               0\n",
       "idade_empresa_anos             111\n",
       "fl_me                          111\n",
       "fl_sa                          111\n",
       "fl_epp                         111\n",
       "fl_mei                         111\n",
       "fl_ltda                        111\n",
       "fl_st_especial                 111\n",
       "fl_rm                          111\n",
       "fl_spa                         111\n",
       "fl_antt                        111\n",
       "fl_veiculo                     111\n",
       "fl_simples_irregular           111\n",
       "fl_passivel_iss                111\n",
       "vl_faturamento_estimado_aux    111\n",
       "qt_filiais                     111\n",
       "0                              111\n",
       "1                              111\n",
       "dtype: int64"
      ]
     },
     "execution_count": 294,
     "metadata": {},
     "output_type": "execute_result"
    }
   ],
   "source": [
    "portfolio_1.isna().sum()"
   ]
  },
  {
   "cell_type": "code",
   "execution_count": 295,
   "metadata": {
    "hidden": true
   },
   "outputs": [],
   "source": [
    "portfolio_1 = portfolio_1.dropna()"
   ]
  },
  {
   "cell_type": "code",
   "execution_count": 297,
   "metadata": {
    "hidden": true
   },
   "outputs": [
    {
     "data": {
      "text/plain": [
       "(444, 18)"
      ]
     },
     "execution_count": 297,
     "metadata": {},
     "output_type": "execute_result"
    }
   ],
   "source": [
    "portfolio_1.shape"
   ]
  },
  {
   "cell_type": "markdown",
   "metadata": {
    "colab_type": "text",
    "heading_collapsed": true,
    "hidden": true,
    "id": "JflzkdQZVJl-"
   },
   "source": [
    "### Portfólio 2"
   ]
  },
  {
   "cell_type": "code",
   "execution_count": 298,
   "metadata": {
    "colab": {
     "base_uri": "https://localhost:8080/",
     "height": 216
    },
    "colab_type": "code",
    "hidden": true,
    "id": "lMJ19Zp7VJmA",
    "outputId": "94494612-2511-4a58-ab6c-e873ef784f11"
   },
   "outputs": [
    {
     "data": {
      "text/html": [
       "<div>\n",
       "<style scoped>\n",
       "    .dataframe tbody tr th:only-of-type {\n",
       "        vertical-align: middle;\n",
       "    }\n",
       "\n",
       "    .dataframe tbody tr th {\n",
       "        vertical-align: top;\n",
       "    }\n",
       "\n",
       "    .dataframe thead th {\n",
       "        text-align: right;\n",
       "    }\n",
       "</style>\n",
       "<table border=\"1\" class=\"dataframe\">\n",
       "  <thead>\n",
       "    <tr style=\"text-align: right;\">\n",
       "      <th></th>\n",
       "      <th>id</th>\n",
       "    </tr>\n",
       "  </thead>\n",
       "  <tbody>\n",
       "    <tr>\n",
       "      <th>0</th>\n",
       "      <td>09e95c1a84049001d086470a8f320a19b076f955a89122...</td>\n",
       "    </tr>\n",
       "    <tr>\n",
       "      <th>1</th>\n",
       "      <td>dc9d155f5bcd3172031e2ec9431786e8871ff4b0ff4728...</td>\n",
       "    </tr>\n",
       "    <tr>\n",
       "      <th>2</th>\n",
       "      <td>16843c9ffb920170477118933798510d8d5f00f5c56c12...</td>\n",
       "    </tr>\n",
       "    <tr>\n",
       "      <th>3</th>\n",
       "      <td>ff045934d90aab184dd15e66daf3b3c97193bda5449298...</td>\n",
       "    </tr>\n",
       "    <tr>\n",
       "      <th>4</th>\n",
       "      <td>a0ce528caab2c62497a548d0ebd9e935143ef81ed7dbf0...</td>\n",
       "    </tr>\n",
       "  </tbody>\n",
       "</table>\n",
       "</div>"
      ],
      "text/plain": [
       "                                                  id\n",
       "0  09e95c1a84049001d086470a8f320a19b076f955a89122...\n",
       "1  dc9d155f5bcd3172031e2ec9431786e8871ff4b0ff4728...\n",
       "2  16843c9ffb920170477118933798510d8d5f00f5c56c12...\n",
       "3  ff045934d90aab184dd15e66daf3b3c97193bda5449298...\n",
       "4  a0ce528caab2c62497a548d0ebd9e935143ef81ed7dbf0..."
      ]
     },
     "execution_count": 298,
     "metadata": {},
     "output_type": "execute_result"
    }
   ],
   "source": [
    "portfolio_2.head()"
   ]
  },
  {
   "cell_type": "code",
   "execution_count": 299,
   "metadata": {
    "colab": {},
    "colab_type": "code",
    "hidden": true,
    "id": "b-j_cUrEdOlZ"
   },
   "outputs": [],
   "source": [
    "portfolio_2 = pd.merge(portfolio_2, market_transformed, on='id',  how='left')"
   ]
  },
  {
   "cell_type": "code",
   "execution_count": 300,
   "metadata": {
    "colab": {
     "base_uri": "https://localhost:8080/",
     "height": 33
    },
    "colab_type": "code",
    "hidden": true,
    "id": "bA8wLNigdmd3",
    "outputId": "d9c53f22-92d3-45a5-d24f-f09af3c5efe9"
   },
   "outputs": [
    {
     "data": {
      "text/plain": [
       "(566, 18)"
      ]
     },
     "execution_count": 300,
     "metadata": {},
     "output_type": "execute_result"
    }
   ],
   "source": [
    "portfolio_2.shape"
   ]
  },
  {
   "cell_type": "code",
   "execution_count": 301,
   "metadata": {
    "colab": {
     "base_uri": "https://localhost:8080/",
     "height": 619
    },
    "colab_type": "code",
    "hidden": true,
    "id": "wz81w9PNdcPl",
    "outputId": "723d9154-7c1a-46f6-e1c9-d4fdac945c66"
   },
   "outputs": [
    {
     "data": {
      "text/plain": [
       "id                              0\n",
       "idade_empresa_anos             70\n",
       "fl_me                          70\n",
       "fl_sa                          70\n",
       "fl_epp                         70\n",
       "fl_mei                         70\n",
       "fl_ltda                        70\n",
       "fl_st_especial                 70\n",
       "fl_rm                          70\n",
       "fl_spa                         70\n",
       "fl_antt                        70\n",
       "fl_veiculo                     70\n",
       "fl_simples_irregular           70\n",
       "fl_passivel_iss                70\n",
       "vl_faturamento_estimado_aux    70\n",
       "qt_filiais                     70\n",
       "0                              70\n",
       "1                              70\n",
       "dtype: int64"
      ]
     },
     "execution_count": 301,
     "metadata": {},
     "output_type": "execute_result"
    }
   ],
   "source": [
    "portfolio_2.isna().sum()"
   ]
  },
  {
   "cell_type": "code",
   "execution_count": 302,
   "metadata": {
    "hidden": true
   },
   "outputs": [],
   "source": [
    "portfolio_2 = portfolio_2.dropna()"
   ]
  },
  {
   "cell_type": "code",
   "execution_count": 303,
   "metadata": {
    "hidden": true
   },
   "outputs": [
    {
     "data": {
      "text/plain": [
       "(496, 18)"
      ]
     },
     "execution_count": 303,
     "metadata": {},
     "output_type": "execute_result"
    }
   ],
   "source": [
    "portfolio_2.shape"
   ]
  },
  {
   "cell_type": "markdown",
   "metadata": {
    "colab_type": "text",
    "heading_collapsed": true,
    "hidden": true,
    "id": "4IH2IqdFVJmD"
   },
   "source": [
    "### Portfólio 3"
   ]
  },
  {
   "cell_type": "code",
   "execution_count": 304,
   "metadata": {
    "colab": {},
    "colab_type": "code",
    "hidden": true,
    "id": "fg7hgrpjVJmD"
   },
   "outputs": [
    {
     "data": {
      "text/html": [
       "<div>\n",
       "<style scoped>\n",
       "    .dataframe tbody tr th:only-of-type {\n",
       "        vertical-align: middle;\n",
       "    }\n",
       "\n",
       "    .dataframe tbody tr th {\n",
       "        vertical-align: top;\n",
       "    }\n",
       "\n",
       "    .dataframe thead th {\n",
       "        text-align: right;\n",
       "    }\n",
       "</style>\n",
       "<table border=\"1\" class=\"dataframe\">\n",
       "  <thead>\n",
       "    <tr style=\"text-align: right;\">\n",
       "      <th></th>\n",
       "      <th>id</th>\n",
       "    </tr>\n",
       "  </thead>\n",
       "  <tbody>\n",
       "    <tr>\n",
       "      <th>0</th>\n",
       "      <td>bb61c09449a1c1f8b78955d8b7a7f73599e78358993fe2...</td>\n",
       "    </tr>\n",
       "    <tr>\n",
       "      <th>1</th>\n",
       "      <td>16843c9ffb920170477118933798510d8d5f00f5c56c12...</td>\n",
       "    </tr>\n",
       "    <tr>\n",
       "      <th>2</th>\n",
       "      <td>1b8d092daff12bed8b3c2ab93bf5df2921865a68aca185...</td>\n",
       "    </tr>\n",
       "    <tr>\n",
       "      <th>3</th>\n",
       "      <td>3aafa3a1f12f483740a52956af100223333d0e3c79bf2c...</td>\n",
       "    </tr>\n",
       "    <tr>\n",
       "      <th>4</th>\n",
       "      <td>c60431fbca90067f105570e1e8a684bcd7048205bbf6c4...</td>\n",
       "    </tr>\n",
       "  </tbody>\n",
       "</table>\n",
       "</div>"
      ],
      "text/plain": [
       "                                                  id\n",
       "0  bb61c09449a1c1f8b78955d8b7a7f73599e78358993fe2...\n",
       "1  16843c9ffb920170477118933798510d8d5f00f5c56c12...\n",
       "2  1b8d092daff12bed8b3c2ab93bf5df2921865a68aca185...\n",
       "3  3aafa3a1f12f483740a52956af100223333d0e3c79bf2c...\n",
       "4  c60431fbca90067f105570e1e8a684bcd7048205bbf6c4..."
      ]
     },
     "execution_count": 304,
     "metadata": {},
     "output_type": "execute_result"
    }
   ],
   "source": [
    "portfolio_3.head()"
   ]
  },
  {
   "cell_type": "code",
   "execution_count": 305,
   "metadata": {
    "colab": {},
    "colab_type": "code",
    "hidden": true,
    "id": "oKD8XDFRdRtZ"
   },
   "outputs": [],
   "source": [
    "portfolio_3 = pd.merge(portfolio_3, market_transformed, on='id',  how='left')"
   ]
  },
  {
   "cell_type": "code",
   "execution_count": 306,
   "metadata": {
    "colab": {
     "base_uri": "https://localhost:8080/",
     "height": 33
    },
    "colab_type": "code",
    "hidden": true,
    "id": "I7p3rGKRdsZE",
    "outputId": "54aefba2-b977-45e0-cb0b-3a2e04eb88e5"
   },
   "outputs": [
    {
     "data": {
      "text/plain": [
       "(265, 18)"
      ]
     },
     "execution_count": 306,
     "metadata": {},
     "output_type": "execute_result"
    }
   ],
   "source": [
    "portfolio_3.shape"
   ]
  },
  {
   "cell_type": "code",
   "execution_count": 307,
   "metadata": {
    "colab": {
     "base_uri": "https://localhost:8080/",
     "height": 351
    },
    "colab_type": "code",
    "hidden": true,
    "id": "28KmYA9VdXkl",
    "outputId": "8a992abd-79f6-41e0-9af7-21f7363b4bc2"
   },
   "outputs": [
    {
     "data": {
      "text/plain": [
       "id                              0\n",
       "idade_empresa_anos             25\n",
       "fl_me                          25\n",
       "fl_sa                          25\n",
       "fl_epp                         25\n",
       "fl_mei                         25\n",
       "fl_ltda                        25\n",
       "fl_st_especial                 25\n",
       "fl_rm                          25\n",
       "fl_spa                         25\n",
       "fl_antt                        25\n",
       "fl_veiculo                     25\n",
       "fl_simples_irregular           25\n",
       "fl_passivel_iss                25\n",
       "vl_faturamento_estimado_aux    25\n",
       "qt_filiais                     25\n",
       "0                              25\n",
       "1                              25\n",
       "dtype: int64"
      ]
     },
     "execution_count": 307,
     "metadata": {},
     "output_type": "execute_result"
    }
   ],
   "source": [
    "portfolio_3.isna().sum()"
   ]
  },
  {
   "cell_type": "code",
   "execution_count": 308,
   "metadata": {
    "hidden": true
   },
   "outputs": [],
   "source": [
    "portfolio_3 = portfolio_3.dropna()"
   ]
  },
  {
   "cell_type": "code",
   "execution_count": 309,
   "metadata": {
    "hidden": true
   },
   "outputs": [
    {
     "data": {
      "text/plain": [
       "(240, 18)"
      ]
     },
     "execution_count": 309,
     "metadata": {},
     "output_type": "execute_result"
    }
   ],
   "source": [
    "portfolio_3.shape"
   ]
  },
  {
   "cell_type": "markdown",
   "metadata": {
    "colab_type": "text",
    "heading_collapsed": true,
    "id": "zXgRsgVKZqFz"
   },
   "source": [
    "## 6.0. Modelo"
   ]
  },
  {
   "cell_type": "markdown",
   "metadata": {
    "hidden": true
   },
   "source": [
    "Removendo os dados dos portfolios para criação do modelo."
   ]
  },
  {
   "cell_type": "code",
   "execution_count": 310,
   "metadata": {
    "colab": {
     "base_uri": "https://localhost:8080/",
     "height": 33
    },
    "colab_type": "code",
    "hidden": true,
    "id": "VKB0NGrxxdAD",
    "outputId": "4c28c0da-9d4b-47c2-e8b6-9ffa048d49ca"
   },
   "outputs": [
    {
     "data": {
      "text/plain": [
       "(363466, 18)"
      ]
     },
     "execution_count": 310,
     "metadata": {},
     "output_type": "execute_result"
    }
   ],
   "source": [
    "market_transformed = market_transformed[~market_transformed['id'].isin(portfolio_1['id'])]\n",
    "market_transformed = market_transformed[~market_transformed['id'].isin(portfolio_2['id'])]\n",
    "market_transformed = market_transformed[~market_transformed['id'].isin(portfolio_3['id'])]\n",
    "market_transformed.shape"
   ]
  },
  {
   "cell_type": "code",
   "execution_count": 311,
   "metadata": {
    "colab": {},
    "colab_type": "code",
    "hidden": true,
    "id": "yx_0imDQ-3jr"
   },
   "outputs": [],
   "source": [
    "market_final = market_transformed.drop('id', axis=1)"
   ]
  },
  {
   "cell_type": "markdown",
   "metadata": {
    "hidden": true
   },
   "source": [
    "Para o modelo, como se trata de um problema não supervisionado, usaremos o Nearest Neighbors. Os parâmetros"
   ]
  },
  {
   "cell_type": "code",
   "execution_count": 313,
   "metadata": {
    "colab": {
     "base_uri": "https://localhost:8080/",
     "height": 195
    },
    "colab_type": "code",
    "hidden": true,
    "id": "CKxQpV6NaZT0",
    "outputId": "43da43de-48cf-4f9d-95cc-89846825dae1"
   },
   "outputs": [
    {
     "data": {
      "text/plain": [
       "NearestNeighbors(algorithm='auto', leaf_size=30, metric='minkowski',\n",
       "                 metric_params=None, n_jobs=None, n_neighbors=3, p=2,\n",
       "                 radius=1.0)"
      ]
     },
     "execution_count": 313,
     "metadata": {},
     "output_type": "execute_result"
    }
   ],
   "source": [
    "from sklearn.neighbors import NearestNeighbors\n",
    "\n",
    "neigh = NearestNeighbors(n_neighbors=3)\n",
    "\n",
    "neigh.fit(market_final)"
   ]
  },
  {
   "cell_type": "markdown",
   "metadata": {
    "heading_collapsed": true,
    "hidden": true
   },
   "source": [
    "### 7.0. Recomendações"
   ]
  },
  {
   "cell_type": "code",
   "execution_count": 326,
   "metadata": {
    "hidden": true
   },
   "outputs": [],
   "source": [
    "def recomendacao(portfolio):\n",
    "    return neigh.kneighbors(portfolio.drop('id', axis=1), return_distance=False)"
   ]
  },
  {
   "cell_type": "markdown",
   "metadata": {
    "heading_collapsed": true,
    "hidden": true
   },
   "source": [
    "### 7.1. Portfolio 1"
   ]
  },
  {
   "cell_type": "code",
   "execution_count": 327,
   "metadata": {
    "colab": {},
    "colab_type": "code",
    "hidden": true,
    "id": "AbSq_2ctFVf4"
   },
   "outputs": [],
   "source": [
    "recomendacao_1 = recomendacao(portfolio_1)"
   ]
  },
  {
   "cell_type": "code",
   "execution_count": 328,
   "metadata": {
    "hidden": true
   },
   "outputs": [],
   "source": [
    "leads_1 = market_transformed.iloc[recomendacao_1.reshape(-1)]"
   ]
  },
  {
   "cell_type": "code",
   "execution_count": 329,
   "metadata": {
    "hidden": true
   },
   "outputs": [
    {
     "data": {
      "text/html": [
       "<div>\n",
       "<style scoped>\n",
       "    .dataframe tbody tr th:only-of-type {\n",
       "        vertical-align: middle;\n",
       "    }\n",
       "\n",
       "    .dataframe tbody tr th {\n",
       "        vertical-align: top;\n",
       "    }\n",
       "\n",
       "    .dataframe thead th {\n",
       "        text-align: right;\n",
       "    }\n",
       "</style>\n",
       "<table border=\"1\" class=\"dataframe\">\n",
       "  <thead>\n",
       "    <tr style=\"text-align: right;\">\n",
       "      <th></th>\n",
       "      <th>id</th>\n",
       "      <th>idade_empresa_anos</th>\n",
       "      <th>fl_me</th>\n",
       "      <th>fl_sa</th>\n",
       "      <th>fl_epp</th>\n",
       "      <th>fl_mei</th>\n",
       "      <th>fl_ltda</th>\n",
       "      <th>fl_st_especial</th>\n",
       "      <th>fl_rm</th>\n",
       "      <th>fl_spa</th>\n",
       "      <th>fl_antt</th>\n",
       "      <th>fl_veiculo</th>\n",
       "      <th>fl_simples_irregular</th>\n",
       "      <th>fl_passivel_iss</th>\n",
       "      <th>vl_faturamento_estimado_aux</th>\n",
       "      <th>qt_filiais</th>\n",
       "      <th>0</th>\n",
       "      <th>1</th>\n",
       "    </tr>\n",
       "  </thead>\n",
       "  <tbody>\n",
       "    <tr>\n",
       "      <th>138574</th>\n",
       "      <td>d1222cffd228ae3a9c4e35372e29bcbc363d9800c8aa96...</td>\n",
       "      <td>-0.410970</td>\n",
       "      <td>0</td>\n",
       "      <td>0</td>\n",
       "      <td>0</td>\n",
       "      <td>0</td>\n",
       "      <td>0</td>\n",
       "      <td>0</td>\n",
       "      <td>0</td>\n",
       "      <td>0</td>\n",
       "      <td>0</td>\n",
       "      <td>0</td>\n",
       "      <td>0</td>\n",
       "      <td>0</td>\n",
       "      <td>-0.018665</td>\n",
       "      <td>4</td>\n",
       "      <td>0.182492</td>\n",
       "      <td>-0.014896</td>\n",
       "    </tr>\n",
       "    <tr>\n",
       "      <th>79044</th>\n",
       "      <td>ce4bec0689740e4ca4c42fd0f342105abf82948504ae67...</td>\n",
       "      <td>-0.504875</td>\n",
       "      <td>0</td>\n",
       "      <td>0</td>\n",
       "      <td>0</td>\n",
       "      <td>0</td>\n",
       "      <td>0</td>\n",
       "      <td>0</td>\n",
       "      <td>0</td>\n",
       "      <td>0</td>\n",
       "      <td>0</td>\n",
       "      <td>0</td>\n",
       "      <td>0</td>\n",
       "      <td>0</td>\n",
       "      <td>-0.018665</td>\n",
       "      <td>4</td>\n",
       "      <td>0.195093</td>\n",
       "      <td>-0.013364</td>\n",
       "    </tr>\n",
       "    <tr>\n",
       "      <th>86782</th>\n",
       "      <td>2cb0b38243044147aa2a9e7ae054c513bb5a48891c77a3...</td>\n",
       "      <td>-0.504875</td>\n",
       "      <td>0</td>\n",
       "      <td>0</td>\n",
       "      <td>0</td>\n",
       "      <td>0</td>\n",
       "      <td>0</td>\n",
       "      <td>0</td>\n",
       "      <td>0</td>\n",
       "      <td>0</td>\n",
       "      <td>0</td>\n",
       "      <td>0</td>\n",
       "      <td>0</td>\n",
       "      <td>0</td>\n",
       "      <td>-0.018665</td>\n",
       "      <td>4</td>\n",
       "      <td>0.195093</td>\n",
       "      <td>-0.013364</td>\n",
       "    </tr>\n",
       "    <tr>\n",
       "      <th>118303</th>\n",
       "      <td>ec5fced14445fe51bd9dbcc5e2484d1c323abad7e681b5...</td>\n",
       "      <td>-0.291639</td>\n",
       "      <td>0</td>\n",
       "      <td>0</td>\n",
       "      <td>0</td>\n",
       "      <td>1</td>\n",
       "      <td>0</td>\n",
       "      <td>0</td>\n",
       "      <td>0</td>\n",
       "      <td>0</td>\n",
       "      <td>0</td>\n",
       "      <td>0</td>\n",
       "      <td>0</td>\n",
       "      <td>0</td>\n",
       "      <td>-0.018665</td>\n",
       "      <td>0</td>\n",
       "      <td>-0.528122</td>\n",
       "      <td>-0.173585</td>\n",
       "    </tr>\n",
       "    <tr>\n",
       "      <th>186523</th>\n",
       "      <td>afcf25c67e3176fbc5bb8eef5051d083ef737ea6a8f78d...</td>\n",
       "      <td>-0.290483</td>\n",
       "      <td>0</td>\n",
       "      <td>0</td>\n",
       "      <td>0</td>\n",
       "      <td>1</td>\n",
       "      <td>0</td>\n",
       "      <td>0</td>\n",
       "      <td>0</td>\n",
       "      <td>0</td>\n",
       "      <td>0</td>\n",
       "      <td>0</td>\n",
       "      <td>0</td>\n",
       "      <td>0</td>\n",
       "      <td>-0.018665</td>\n",
       "      <td>0</td>\n",
       "      <td>-0.528122</td>\n",
       "      <td>-0.173585</td>\n",
       "    </tr>\n",
       "  </tbody>\n",
       "</table>\n",
       "</div>"
      ],
      "text/plain": [
       "                                                       id  idade_empresa_anos  \\\n",
       "138574  d1222cffd228ae3a9c4e35372e29bcbc363d9800c8aa96...           -0.410970   \n",
       "79044   ce4bec0689740e4ca4c42fd0f342105abf82948504ae67...           -0.504875   \n",
       "86782   2cb0b38243044147aa2a9e7ae054c513bb5a48891c77a3...           -0.504875   \n",
       "118303  ec5fced14445fe51bd9dbcc5e2484d1c323abad7e681b5...           -0.291639   \n",
       "186523  afcf25c67e3176fbc5bb8eef5051d083ef737ea6a8f78d...           -0.290483   \n",
       "\n",
       "        fl_me  fl_sa  fl_epp  fl_mei  fl_ltda  fl_st_especial  fl_rm  fl_spa  \\\n",
       "138574      0      0       0       0        0               0      0       0   \n",
       "79044       0      0       0       0        0               0      0       0   \n",
       "86782       0      0       0       0        0               0      0       0   \n",
       "118303      0      0       0       1        0               0      0       0   \n",
       "186523      0      0       0       1        0               0      0       0   \n",
       "\n",
       "        fl_antt  fl_veiculo  fl_simples_irregular  fl_passivel_iss  \\\n",
       "138574        0           0                     0                0   \n",
       "79044         0           0                     0                0   \n",
       "86782         0           0                     0                0   \n",
       "118303        0           0                     0                0   \n",
       "186523        0           0                     0                0   \n",
       "\n",
       "        vl_faturamento_estimado_aux  qt_filiais         0         1  \n",
       "138574                    -0.018665           4  0.182492 -0.014896  \n",
       "79044                     -0.018665           4  0.195093 -0.013364  \n",
       "86782                     -0.018665           4  0.195093 -0.013364  \n",
       "118303                    -0.018665           0 -0.528122 -0.173585  \n",
       "186523                    -0.018665           0 -0.528122 -0.173585  "
      ]
     },
     "execution_count": 329,
     "metadata": {},
     "output_type": "execute_result"
    }
   ],
   "source": [
    "leads_1.head()"
   ]
  },
  {
   "cell_type": "code",
   "execution_count": 330,
   "metadata": {
    "hidden": true
   },
   "outputs": [
    {
     "data": {
      "text/plain": [
       "(1332, 18)"
      ]
     },
     "execution_count": 330,
     "metadata": {},
     "output_type": "execute_result"
    }
   ],
   "source": [
    "leads_1.shape"
   ]
  },
  {
   "cell_type": "markdown",
   "metadata": {
    "heading_collapsed": true,
    "hidden": true
   },
   "source": [
    "### 7.2. Portfolio 2"
   ]
  },
  {
   "cell_type": "code",
   "execution_count": 331,
   "metadata": {
    "hidden": true
   },
   "outputs": [],
   "source": [
    "recomendacao_2 = recomendacao(portfolio_2)"
   ]
  },
  {
   "cell_type": "code",
   "execution_count": 332,
   "metadata": {
    "hidden": true
   },
   "outputs": [],
   "source": [
    "leads_2 = market_transformed.iloc[recomendacao_2.reshape(-1)]"
   ]
  },
  {
   "cell_type": "code",
   "execution_count": 333,
   "metadata": {
    "hidden": true
   },
   "outputs": [
    {
     "data": {
      "text/html": [
       "<div>\n",
       "<style scoped>\n",
       "    .dataframe tbody tr th:only-of-type {\n",
       "        vertical-align: middle;\n",
       "    }\n",
       "\n",
       "    .dataframe tbody tr th {\n",
       "        vertical-align: top;\n",
       "    }\n",
       "\n",
       "    .dataframe thead th {\n",
       "        text-align: right;\n",
       "    }\n",
       "</style>\n",
       "<table border=\"1\" class=\"dataframe\">\n",
       "  <thead>\n",
       "    <tr style=\"text-align: right;\">\n",
       "      <th></th>\n",
       "      <th>id</th>\n",
       "      <th>idade_empresa_anos</th>\n",
       "      <th>fl_me</th>\n",
       "      <th>fl_sa</th>\n",
       "      <th>fl_epp</th>\n",
       "      <th>fl_mei</th>\n",
       "      <th>fl_ltda</th>\n",
       "      <th>fl_st_especial</th>\n",
       "      <th>fl_rm</th>\n",
       "      <th>fl_spa</th>\n",
       "      <th>fl_antt</th>\n",
       "      <th>fl_veiculo</th>\n",
       "      <th>fl_simples_irregular</th>\n",
       "      <th>fl_passivel_iss</th>\n",
       "      <th>vl_faturamento_estimado_aux</th>\n",
       "      <th>qt_filiais</th>\n",
       "      <th>0</th>\n",
       "      <th>1</th>\n",
       "    </tr>\n",
       "  </thead>\n",
       "  <tbody>\n",
       "    <tr>\n",
       "      <th>13367</th>\n",
       "      <td>1d43297a375fb9237831adcdf133256c6777146fa63b93...</td>\n",
       "      <td>-0.100940</td>\n",
       "      <td>0</td>\n",
       "      <td>0</td>\n",
       "      <td>0</td>\n",
       "      <td>0</td>\n",
       "      <td>0</td>\n",
       "      <td>0</td>\n",
       "      <td>0</td>\n",
       "      <td>0</td>\n",
       "      <td>0</td>\n",
       "      <td>0</td>\n",
       "      <td>0</td>\n",
       "      <td>0</td>\n",
       "      <td>10.663249</td>\n",
       "      <td>0</td>\n",
       "      <td>0.358374</td>\n",
       "      <td>0.736335</td>\n",
       "    </tr>\n",
       "    <tr>\n",
       "      <th>326831</th>\n",
       "      <td>9a8c308ac607762799665f39f32071738d95eb184b7687...</td>\n",
       "      <td>-0.134746</td>\n",
       "      <td>0</td>\n",
       "      <td>1</td>\n",
       "      <td>0</td>\n",
       "      <td>0</td>\n",
       "      <td>0</td>\n",
       "      <td>0</td>\n",
       "      <td>0</td>\n",
       "      <td>0</td>\n",
       "      <td>0</td>\n",
       "      <td>0</td>\n",
       "      <td>0</td>\n",
       "      <td>0</td>\n",
       "      <td>10.080452</td>\n",
       "      <td>1</td>\n",
       "      <td>-0.168638</td>\n",
       "      <td>0.265494</td>\n",
       "    </tr>\n",
       "    <tr>\n",
       "      <th>388297</th>\n",
       "      <td>4db3114a4f39babd5fcceb9a99b7f872ad579782cc249c...</td>\n",
       "      <td>0.203023</td>\n",
       "      <td>0</td>\n",
       "      <td>0</td>\n",
       "      <td>0</td>\n",
       "      <td>0</td>\n",
       "      <td>0</td>\n",
       "      <td>0</td>\n",
       "      <td>0</td>\n",
       "      <td>0</td>\n",
       "      <td>0</td>\n",
       "      <td>0</td>\n",
       "      <td>0</td>\n",
       "      <td>0</td>\n",
       "      <td>10.710773</td>\n",
       "      <td>1</td>\n",
       "      <td>-0.300030</td>\n",
       "      <td>0.069002</td>\n",
       "    </tr>\n",
       "    <tr>\n",
       "      <th>47385</th>\n",
       "      <td>d039506a9af446f69f3c8af41ce08b5e6aec95f89a40ef...</td>\n",
       "      <td>3.487377</td>\n",
       "      <td>0</td>\n",
       "      <td>0</td>\n",
       "      <td>0</td>\n",
       "      <td>0</td>\n",
       "      <td>0</td>\n",
       "      <td>0</td>\n",
       "      <td>0</td>\n",
       "      <td>0</td>\n",
       "      <td>0</td>\n",
       "      <td>0</td>\n",
       "      <td>0</td>\n",
       "      <td>0</td>\n",
       "      <td>4.709028</td>\n",
       "      <td>0</td>\n",
       "      <td>-0.051939</td>\n",
       "      <td>0.629299</td>\n",
       "    </tr>\n",
       "    <tr>\n",
       "      <th>22688</th>\n",
       "      <td>fe595499889f866ed9380cbe338ad3362c9bc20618f435...</td>\n",
       "      <td>3.577526</td>\n",
       "      <td>0</td>\n",
       "      <td>0</td>\n",
       "      <td>0</td>\n",
       "      <td>0</td>\n",
       "      <td>0</td>\n",
       "      <td>0</td>\n",
       "      <td>0</td>\n",
       "      <td>0</td>\n",
       "      <td>0</td>\n",
       "      <td>0</td>\n",
       "      <td>0</td>\n",
       "      <td>0</td>\n",
       "      <td>4.721293</td>\n",
       "      <td>0</td>\n",
       "      <td>0.029255</td>\n",
       "      <td>0.776519</td>\n",
       "    </tr>\n",
       "  </tbody>\n",
       "</table>\n",
       "</div>"
      ],
      "text/plain": [
       "                                                       id  idade_empresa_anos  \\\n",
       "13367   1d43297a375fb9237831adcdf133256c6777146fa63b93...           -0.100940   \n",
       "326831  9a8c308ac607762799665f39f32071738d95eb184b7687...           -0.134746   \n",
       "388297  4db3114a4f39babd5fcceb9a99b7f872ad579782cc249c...            0.203023   \n",
       "47385   d039506a9af446f69f3c8af41ce08b5e6aec95f89a40ef...            3.487377   \n",
       "22688   fe595499889f866ed9380cbe338ad3362c9bc20618f435...            3.577526   \n",
       "\n",
       "        fl_me  fl_sa  fl_epp  fl_mei  fl_ltda  fl_st_especial  fl_rm  fl_spa  \\\n",
       "13367       0      0       0       0        0               0      0       0   \n",
       "326831      0      1       0       0        0               0      0       0   \n",
       "388297      0      0       0       0        0               0      0       0   \n",
       "47385       0      0       0       0        0               0      0       0   \n",
       "22688       0      0       0       0        0               0      0       0   \n",
       "\n",
       "        fl_antt  fl_veiculo  fl_simples_irregular  fl_passivel_iss  \\\n",
       "13367         0           0                     0                0   \n",
       "326831        0           0                     0                0   \n",
       "388297        0           0                     0                0   \n",
       "47385         0           0                     0                0   \n",
       "22688         0           0                     0                0   \n",
       "\n",
       "        vl_faturamento_estimado_aux  qt_filiais         0         1  \n",
       "13367                     10.663249           0  0.358374  0.736335  \n",
       "326831                    10.080452           1 -0.168638  0.265494  \n",
       "388297                    10.710773           1 -0.300030  0.069002  \n",
       "47385                      4.709028           0 -0.051939  0.629299  \n",
       "22688                      4.721293           0  0.029255  0.776519  "
      ]
     },
     "execution_count": 333,
     "metadata": {},
     "output_type": "execute_result"
    }
   ],
   "source": [
    "leads_2.head()"
   ]
  },
  {
   "cell_type": "code",
   "execution_count": 334,
   "metadata": {
    "hidden": true
   },
   "outputs": [
    {
     "data": {
      "text/plain": [
       "(1488, 18)"
      ]
     },
     "execution_count": 334,
     "metadata": {},
     "output_type": "execute_result"
    }
   ],
   "source": [
    "leads_2.shape"
   ]
  },
  {
   "cell_type": "markdown",
   "metadata": {
    "heading_collapsed": true,
    "hidden": true
   },
   "source": [
    "### 7.3. Portfolio 3"
   ]
  },
  {
   "cell_type": "code",
   "execution_count": 335,
   "metadata": {
    "hidden": true
   },
   "outputs": [],
   "source": [
    "recomendacao_3 = recomendacao(portfolio_3)"
   ]
  },
  {
   "cell_type": "code",
   "execution_count": 336,
   "metadata": {
    "hidden": true
   },
   "outputs": [],
   "source": [
    "leads_3 = market_transformed.iloc[recomendacao_3.reshape(-1)]"
   ]
  },
  {
   "cell_type": "code",
   "execution_count": 337,
   "metadata": {
    "hidden": true
   },
   "outputs": [
    {
     "data": {
      "text/html": [
       "<div>\n",
       "<style scoped>\n",
       "    .dataframe tbody tr th:only-of-type {\n",
       "        vertical-align: middle;\n",
       "    }\n",
       "\n",
       "    .dataframe tbody tr th {\n",
       "        vertical-align: top;\n",
       "    }\n",
       "\n",
       "    .dataframe thead th {\n",
       "        text-align: right;\n",
       "    }\n",
       "</style>\n",
       "<table border=\"1\" class=\"dataframe\">\n",
       "  <thead>\n",
       "    <tr style=\"text-align: right;\">\n",
       "      <th></th>\n",
       "      <th>id</th>\n",
       "      <th>idade_empresa_anos</th>\n",
       "      <th>fl_me</th>\n",
       "      <th>fl_sa</th>\n",
       "      <th>fl_epp</th>\n",
       "      <th>fl_mei</th>\n",
       "      <th>fl_ltda</th>\n",
       "      <th>fl_st_especial</th>\n",
       "      <th>fl_rm</th>\n",
       "      <th>fl_spa</th>\n",
       "      <th>fl_antt</th>\n",
       "      <th>fl_veiculo</th>\n",
       "      <th>fl_simples_irregular</th>\n",
       "      <th>fl_passivel_iss</th>\n",
       "      <th>vl_faturamento_estimado_aux</th>\n",
       "      <th>qt_filiais</th>\n",
       "      <th>0</th>\n",
       "      <th>1</th>\n",
       "    </tr>\n",
       "  </thead>\n",
       "  <tbody>\n",
       "    <tr>\n",
       "      <th>218745</th>\n",
       "      <td>d859dad169c53ae868b52d1d912c01d594797f53465f66...</td>\n",
       "      <td>1.583278</td>\n",
       "      <td>0</td>\n",
       "      <td>0</td>\n",
       "      <td>0</td>\n",
       "      <td>0</td>\n",
       "      <td>0</td>\n",
       "      <td>0</td>\n",
       "      <td>0</td>\n",
       "      <td>0</td>\n",
       "      <td>0</td>\n",
       "      <td>0</td>\n",
       "      <td>0</td>\n",
       "      <td>0</td>\n",
       "      <td>4.390162</td>\n",
       "      <td>2</td>\n",
       "      <td>-0.131084</td>\n",
       "      <td>0.545850</td>\n",
       "    </tr>\n",
       "    <tr>\n",
       "      <th>119895</th>\n",
       "      <td>8e766235801b7dd152a9bac144950e2918a95c97a6c44c...</td>\n",
       "      <td>1.066368</td>\n",
       "      <td>0</td>\n",
       "      <td>0</td>\n",
       "      <td>0</td>\n",
       "      <td>0</td>\n",
       "      <td>0</td>\n",
       "      <td>0</td>\n",
       "      <td>0</td>\n",
       "      <td>0</td>\n",
       "      <td>0</td>\n",
       "      <td>0</td>\n",
       "      <td>0</td>\n",
       "      <td>0</td>\n",
       "      <td>4.871528</td>\n",
       "      <td>2</td>\n",
       "      <td>-0.062886</td>\n",
       "      <td>0.457293</td>\n",
       "    </tr>\n",
       "    <tr>\n",
       "      <th>423041</th>\n",
       "      <td>535295e415f6a6e0929adab42401c9ca569843005a85b3...</td>\n",
       "      <td>0.301261</td>\n",
       "      <td>0</td>\n",
       "      <td>0</td>\n",
       "      <td>0</td>\n",
       "      <td>0</td>\n",
       "      <td>0</td>\n",
       "      <td>0</td>\n",
       "      <td>0</td>\n",
       "      <td>0</td>\n",
       "      <td>0</td>\n",
       "      <td>0</td>\n",
       "      <td>0</td>\n",
       "      <td>0</td>\n",
       "      <td>4.473098</td>\n",
       "      <td>2</td>\n",
       "      <td>-0.198320</td>\n",
       "      <td>0.321716</td>\n",
       "    </tr>\n",
       "    <tr>\n",
       "      <th>400016</th>\n",
       "      <td>c18382bf7178d8d4449972c667d648c108182c5d22df8b...</td>\n",
       "      <td>0.430705</td>\n",
       "      <td>0</td>\n",
       "      <td>0</td>\n",
       "      <td>0</td>\n",
       "      <td>0</td>\n",
       "      <td>0</td>\n",
       "      <td>0</td>\n",
       "      <td>0</td>\n",
       "      <td>0</td>\n",
       "      <td>0</td>\n",
       "      <td>0</td>\n",
       "      <td>0</td>\n",
       "      <td>0</td>\n",
       "      <td>1.016001</td>\n",
       "      <td>0</td>\n",
       "      <td>-0.624455</td>\n",
       "      <td>0.307269</td>\n",
       "    </tr>\n",
       "    <tr>\n",
       "      <th>413133</th>\n",
       "      <td>76474a7ddc6b52aad04e84553ddb856c774ddc465804ae...</td>\n",
       "      <td>0.730045</td>\n",
       "      <td>0</td>\n",
       "      <td>0</td>\n",
       "      <td>0</td>\n",
       "      <td>0</td>\n",
       "      <td>0</td>\n",
       "      <td>0</td>\n",
       "      <td>0</td>\n",
       "      <td>0</td>\n",
       "      <td>0</td>\n",
       "      <td>0</td>\n",
       "      <td>0</td>\n",
       "      <td>0</td>\n",
       "      <td>0.951615</td>\n",
       "      <td>0</td>\n",
       "      <td>-0.262158</td>\n",
       "      <td>0.189117</td>\n",
       "    </tr>\n",
       "  </tbody>\n",
       "</table>\n",
       "</div>"
      ],
      "text/plain": [
       "                                                       id  idade_empresa_anos  \\\n",
       "218745  d859dad169c53ae868b52d1d912c01d594797f53465f66...            1.583278   \n",
       "119895  8e766235801b7dd152a9bac144950e2918a95c97a6c44c...            1.066368   \n",
       "423041  535295e415f6a6e0929adab42401c9ca569843005a85b3...            0.301261   \n",
       "400016  c18382bf7178d8d4449972c667d648c108182c5d22df8b...            0.430705   \n",
       "413133  76474a7ddc6b52aad04e84553ddb856c774ddc465804ae...            0.730045   \n",
       "\n",
       "        fl_me  fl_sa  fl_epp  fl_mei  fl_ltda  fl_st_especial  fl_rm  fl_spa  \\\n",
       "218745      0      0       0       0        0               0      0       0   \n",
       "119895      0      0       0       0        0               0      0       0   \n",
       "423041      0      0       0       0        0               0      0       0   \n",
       "400016      0      0       0       0        0               0      0       0   \n",
       "413133      0      0       0       0        0               0      0       0   \n",
       "\n",
       "        fl_antt  fl_veiculo  fl_simples_irregular  fl_passivel_iss  \\\n",
       "218745        0           0                     0                0   \n",
       "119895        0           0                     0                0   \n",
       "423041        0           0                     0                0   \n",
       "400016        0           0                     0                0   \n",
       "413133        0           0                     0                0   \n",
       "\n",
       "        vl_faturamento_estimado_aux  qt_filiais         0         1  \n",
       "218745                     4.390162           2 -0.131084  0.545850  \n",
       "119895                     4.871528           2 -0.062886  0.457293  \n",
       "423041                     4.473098           2 -0.198320  0.321716  \n",
       "400016                     1.016001           0 -0.624455  0.307269  \n",
       "413133                     0.951615           0 -0.262158  0.189117  "
      ]
     },
     "execution_count": 337,
     "metadata": {},
     "output_type": "execute_result"
    }
   ],
   "source": [
    "leads_3.head()"
   ]
  },
  {
   "cell_type": "code",
   "execution_count": 338,
   "metadata": {
    "hidden": true
   },
   "outputs": [
    {
     "data": {
      "text/plain": [
       "(720, 18)"
      ]
     },
     "execution_count": 338,
     "metadata": {},
     "output_type": "execute_result"
    }
   ],
   "source": [
    "leads_3.shape"
   ]
  },
  {
   "cell_type": "code",
   "execution_count": null,
   "metadata": {
    "hidden": true
   },
   "outputs": [],
   "source": []
  }
 ],
 "metadata": {
  "colab": {
   "collapsed_sections": [
    "1TzQcnNKVJkC",
    "uujlAMGx5aex",
    "vxN8vSrHVJkn"
   ],
   "name": "ProjetoFinal.ipynb",
   "provenance": [],
   "toc_visible": true
  },
  "kernelspec": {
   "display_name": "Python 3.7.3 64-bit ('base': conda)",
   "language": "python",
   "name": "python37364bitbaseconda58845352eaef49f7b6003ee50c15f19a"
  },
  "language_info": {
   "codemirror_mode": {
    "name": "ipython",
    "version": 3
   },
   "file_extension": ".py",
   "mimetype": "text/x-python",
   "name": "python",
   "nbconvert_exporter": "python",
   "pygments_lexer": "ipython3",
   "version": "3.7.3"
  }
 },
 "nbformat": 4,
 "nbformat_minor": 1
}
